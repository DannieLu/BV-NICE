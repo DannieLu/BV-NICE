{
 "cells": [
  {
   "cell_type": "markdown",
   "metadata": {},
   "source": [
    "$\n",
    "\\newcommand{\\ELBO}{\\text{ELBO}}\n",
    "\\newcommand{\\EE}{\\mathbb{E}}\n",
    "\\newcommand{\\bs}[1]{\\boldsymbol{#1}}\n",
    "\\newcommand{\\ud}{\\,\\text{d}}\n",
    "\\newcommand{\\CN}{\\mathcal{N}}\n",
    "\\newcommand{\\CB}{\\mathcal{B}}\n",
    "\\newcommand{\\aux}{\\text{aux}}\n",
    "\\newcommand{\\do}{do}\n",
    "\\newcommand{\\Xmat}{\\boldsymbol{X}}\n",
    "\\newcommand{\\zv}{\\bs{z}}\n",
    "\\newcommand{\\xv}{\\bs{x}}\n",
    "\\newcommand{\\Xv}{\\bs{X}}\n",
    "\\newcommand{\\Yv}{\\bs{Y}}\n",
    "\\newcommand{\\BD}{\\mathbb{D}}\n",
    "\\newcommand{\\KL}{\\text{KL}}$"
   ]
  },
  {
   "cell_type": "markdown",
   "metadata": {},
   "source": [
    "### Balancing Variational Neural Inference Causal Estimation"
   ]
  },
  {
   "cell_type": "markdown",
   "metadata": {},
   "source": [
    "* Using reformulated ELBO for training\n",
    "  * $m(\\zv) = \\EE[Y|\\zv]$: expected outcome model\n",
    "  * $e(\\zv) = p(t|\\zv)$: propensity score model\n",
    "  * $\\tau(\\zv) = \\EE[Y(1) - Y(0)|\\zv]$: causal effect model"
   ]
  },
  {
   "cell_type": "markdown",
   "metadata": {},
   "source": [
    "* Learning objective:\n",
    "  * Robinson residual: $r(\\zv) = y - m(\\zv) - (t - e(\\zv))\\times\\tau(\\zv)$\n",
    "  * $\\ELBO = \\log e(\\zv) - \\rho r^2(\\zv) - \\BD_{\\KL}(q \\parallel p) - \\lambda \\BD_{\\KL}(q_0 \\parallel q_1)$\n",
    "    * $\\zv \\sim q(\\zv|\\xv)$\n",
    "    * $\\rho$ is the precision parameter\n",
    "    * $\\lambda$ is the balancing regularization"
   ]
  },
  {
   "cell_type": "code",
   "execution_count": 1,
   "metadata": {},
   "outputs": [],
   "source": [
    "import os\n",
    "import sys\n",
    "from time import time\n",
    "\n",
    "import numpy as np\n",
    "import tensorflow as tf\n",
    "\n",
    "import pandas as pd\n",
    "import math\n",
    "\n",
    "import seaborn as sns\n",
    "\n",
    "import matplotlib.pyplot as plt\n",
    "%matplotlib inline\n",
    "\n",
    "config = tf.ConfigProto()\n",
    "config.gpu_options.allow_growth = True\n",
    "config.allow_soft_placement=True\n",
    "sess = tf.Session(config=config)"
   ]
  },
  {
   "cell_type": "code",
   "execution_count": 2,
   "metadata": {},
   "outputs": [],
   "source": [
    "\n",
    "l2_reg = 1e-4\n",
    "beta = 1.   # ELBO's KL term\n",
    "gamma = 1.  # PS likelihood\n",
    "rho = 1     # outcome likelihood\n",
    "lam = 1     # imbalance parameter\n",
    "\n",
    "# lr = 1e-3\n",
    "lr = 1e-4\n",
    "# lam = 0\n",
    "\n",
    "ihdp_id = 0\n",
    "# rho = 10\n",
    "\n",
    "# NORM = False\n",
    "NORM = True\n",
    "\n",
    "l2_reg = 0\n",
    "# l2_reg = 1e-3\n",
    "\n",
    "# RDECOMP = False\n",
    "RDECOMP = True\n",
    "\n",
    "# Adversarial VAE\n",
    "# whether to match the aggregated posterior to the prior\n",
    "# AVB = False\n",
    "AVB = True  \n",
    "\n",
    "XONLY = True\n",
    "XONLY = False"
   ]
  },
  {
   "cell_type": "code",
   "execution_count": 3,
   "metadata": {},
   "outputs": [],
   "source": [
    "# tf.keras.layers"
   ]
  },
  {
   "cell_type": "code",
   "execution_count": 4,
   "metadata": {
    "code_folding": [
     0
    ]
   },
   "outputs": [],
   "source": [
    "class flags:\n",
    "    \n",
    "    # dim = 2\n",
    "    \n",
    "    x_dim = 25\n",
    "    y_dim = 1\n",
    "    t_dim = 2\n",
    "    M = 10\n",
    "    \n",
    "    hidden_units = 64\n",
    "    hidden_size = 2\n",
    "    \n",
    "    # hidden_size = 1\n",
    "    # hidden_units = 32\n",
    "    \n",
    "    xi_dim = 100\n",
    "    \n",
    "    # optimization\n",
    "    learning_rate = 1e-3 # Base learning rate\n",
    "    lr_decay = 0.999995 # Learning rate decay, applied every step of the optimization\n",
    "    \n",
    "    batch_size = 128 # Batch size during training per GPU\n",
    "    # batch_size = 400\n",
    "    \n",
    "    \n",
    "FLAGS = flags()\n",
    "args = FLAGS\n",
    "\n",
    "DTYPE = tf.float32"
   ]
  },
  {
   "cell_type": "code",
   "execution_count": 5,
   "metadata": {},
   "outputs": [],
   "source": [
    "def onehot(t,dim):\n",
    "    \n",
    "    m_samples = t.shape[0]\n",
    "    tt = np.zeros([m_samples,dim])\n",
    "    \n",
    "    for i in range(m_samples):\n",
    "        tt[i,np.int(t[i])] = 1\n",
    "        \n",
    "    return tt"
   ]
  },
  {
   "cell_type": "code",
   "execution_count": 6,
   "metadata": {
    "code_folding": [
     0,
     6
    ]
   },
   "outputs": [],
   "source": [
    "def softmax(x):\n",
    "    exp_x = np.exp(x)\n",
    "    y = exp_x / np.sum(exp_x,axis=1,keepdims=True)\n",
    "    # y = y / np.sum(y,axis=1,keepdims=True)\n",
    "    return y\n",
    "\n",
    "def sample_category_logits(logits):\n",
    "    pval = softmax(logits)\n",
    "    n,m = pval.shape\n",
    "    sampl = np.zeros([n,m])\n",
    "    for i in range(pval.shape[0]):\n",
    "        sampl[i,:] = np.random.multinomial(1,pval[i,:])\n",
    "\n",
    "    return sampl\n"
   ]
  },
  {
   "cell_type": "code",
   "execution_count": 8,
   "metadata": {
    "code_folding": [
     6,
     40,
     66,
     86,
     105
    ]
   },
   "outputs": [
    {
     "name": "stdout",
     "output_type": "stream",
     "text": [
      "WARNING:tensorflow:\n",
      "The TensorFlow contrib module will not be included in TensorFlow 2.0.\n",
      "For more information, please see:\n",
      "  * https://github.com/tensorflow/community/blob/master/rfcs/20180907-contrib-sunset.md\n",
      "  * https://github.com/tensorflow/addons\n",
      "  * https://github.com/tensorflow/io (for I/O related ops)\n",
      "If you depend on functionality not listed there, please file an issue.\n",
      "\n"
     ]
    }
   ],
   "source": [
    "initializer = tf.contrib.layers.xavier_initializer()\n",
    "\n",
    "# nonlinearity=tf.nn.elu\n",
    "nonlinearity=tf.nn.relu\n",
    "\n",
    "def encoder(input_x,input_y,input_t,name='encoder'):\n",
    "    '''\n",
    "    approximate posterior of z given x,y,t\n",
    "    p(z|x,y,t)\n",
    "    return mean and var of z\n",
    "    \n",
    "    '''\n",
    "    if input_y is None:\n",
    "        input_tensor = input_x\n",
    "    else:\n",
    "        input_tensor = tf.concat([input_x,input_y,input_t],axis=-1)  # cbind \n",
    "    \n",
    "    hidden_units = FLAGS.hidden_units   # size of hidden units in a layer\n",
    "    # latent_size = 2     # dimension of z\n",
    "    \n",
    "    with tf.variable_scope(name,reuse=tf.AUTO_REUSE):\n",
    "        h1 = tf.layers.dense(input_tensor,hidden_units,kernel_initializer=initializer,activation=nonlinearity)\n",
    "        h2 = tf.layers.dense(h1,hidden_units,kernel_initializer=initializer,activation=nonlinearity)\n",
    "        # h2 = tf.layers.dense(h2,hidden_units,kernel_initializer=initializer,activation=nonlinearity)\n",
    "        o = tf.layers.dense(h2,2*FLAGS.hidden_size,kernel_initializer=initializer,activation=None)\n",
    "        # o = tf.layers.dense(h2,2*latent_size,activation=None,use_bias=False)\n",
    "        \n",
    "    # o is the output of encoder\n",
    "    # o[:hidden_size]: mean(z)\n",
    "    # o[hidden_size:]: log var(z)\n",
    "    \n",
    "#     mean = o[:, :FLAGS.hidden_size]\n",
    "#     std = o[:, FLAGS.hidden_size:]\n",
    "#     o = tf.concat([mean,tf.constant(-4+np.zeros([FLAGS.batch_size,FLAGS.hidden_size]),tf.float32)],axis=1)\n",
    "    \n",
    "    # stddev = tf.sqrt(tf.exp(latent_code[:, FLAGS.hidden_size:]))\n",
    "    \n",
    "    return o\n",
    "\n",
    "def s_encoder(input_x,input_y,input_t,name='encoder'):\n",
    "    '''\n",
    "    stocahstic encoder\n",
    "    approximate posterior of z given x,y,t\n",
    "    p(z|x,y,t)\n",
    "    \n",
    "    '''\n",
    "    \n",
    "    xi = tf.random.uniform([FLAGS.batch_size,FLAGS.xi_dim], minval=-1,maxval=1)\n",
    "    \n",
    "    if input_y is None:\n",
    "        input_tensor = tf.concat([input_x,xi],axis=-1)\n",
    "    else:\n",
    "        input_tensor = tf.concat([input_x,input_y,input_t,xi],axis=-1)  # cbind \n",
    "    \n",
    "    hidden_units = FLAGS.hidden_units   # size of hidden units in a layer\n",
    "    # latent_size = 2     # dimension of z\n",
    "    \n",
    "    with tf.variable_scope(name,reuse=tf.AUTO_REUSE):\n",
    "        h1 = tf.layers.dense(input_tensor,hidden_units,kernel_initializer=initializer,activation=nonlinearity)\n",
    "        h2 = tf.layers.dense(h1,hidden_units,kernel_initializer=initializer,activation=nonlinearity)\n",
    "        # h2 = tf.layers.dense(h2,hidden_units,kernel_initializer=initializer,activation=nonlinearity)\n",
    "        o = tf.layers.dense(h2,FLAGS.hidden_size,kernel_initializer=initializer,activation=None)\n",
    "        \n",
    "    return o\n",
    "\n",
    "def generator(x, name='generator'):\n",
    "    \n",
    "    '''\n",
    "    Conditional generator for q(z|x)\n",
    "    '''\n",
    "    \n",
    "    hidden_units = FLAGS.hidden_units \n",
    "    \n",
    "    xi = tf.random.uniform([FLAGS.batch_size,FLAGS.xi_dim], minval=-1,maxval=1)\n",
    "    \n",
    "    input_tensor = tf.concat([x,xi],axis=-1)\n",
    "    \n",
    "    with tf.variable_scope('%s' % name,reuse=tf.AUTO_REUSE):\n",
    "        h1 = tf.layers.dense(input_tensor,hidden_units,kernel_initializer=initializer,activation=nonlinearity)\n",
    "        h2 = tf.layers.dense(h1,hidden_units,kernel_initializer=initializer,activation=nonlinearity)\n",
    "        # h2 = tf.layers.dense(h2,hidden_units,kernel_initializer=initializer,activation=nonlinearity)\n",
    "        o = tf.layers.dense(h2,FLAGS.hidden_size,kernel_initializer=initializer,activation=None)\n",
    "    \n",
    "    return o\n",
    "    \n",
    "def critic(z,x,name):\n",
    "    \n",
    "    hidden_units = FLAGS.hidden_units    # size of hidden units in a layer\n",
    "    \n",
    "    if x is None:\n",
    "        input_tensor = z;\n",
    "    else:\n",
    "        input_tensor = tf.concat([x,z],axis=-1)\n",
    "    \n",
    "    with tf.variable_scope('critic-%s' % name,reuse=tf.AUTO_REUSE):\n",
    "        h1 = tf.layers.dense(input_tensor,hidden_units,kernel_initializer=initializer,activation=nonlinearity)\n",
    "        h2 = tf.layers.dense(h1,hidden_units,kernel_initializer=initializer,activation=nonlinearity)\n",
    "        # h2 = tf.layers.dense(h2,hidden_units,kernel_initializer=initializer,activation=nonlinearity)\n",
    "        # o = tf.layers.dense(h2,1,activation=None)\n",
    "        o = tf.layers.dense(h2,1,kernel_initializer=initializer,activation=tf.nn.tanh)\n",
    "        o *= 5\n",
    "        \n",
    "    return o;\n",
    "\n",
    "def encoder2(input_x,input_y,input_t,name='encoder',nonlinearity=tf.nn.elu):\n",
    "    '''\n",
    "    approximate posterior of z given x,y,t\n",
    "    p(z|x,y,t)\n",
    "    return mean and var of z\n",
    "    \n",
    "    '''\n",
    "    \n",
    "    if input_y is None or input_t is None:\n",
    "        input_tensor = input_x\n",
    "    else:\n",
    "        input_tensor = tf.concat([input_x,input_y,input_t],axis=-1)  # cbind \n",
    "    \n",
    "    hidden_units = FLAGS.hidden_units   # size of hidden units in a layer\n",
    "    # latent_size = 2     # dimension of z\n",
    "    \n",
    "    with tf.variable_scope(name,reuse=tf.AUTO_REUSE):\n",
    "        h1 = tf.layers.dense(input_tensor,hidden_units,kernel_initializer=initializer,activation=nonlinearity)\n",
    "        h2 = tf.layers.dense(h1,hidden_units,kernel_initializer=initializer,activation=nonlinearity)\n",
    "        # h2 = tf.layers.dense(h2,hidden_units,kernel_initializer=initializer,activation=nonlinearity)\n",
    "        o = tf.layers.dense(h2,2*FLAGS.hidden_size,kernel_initializer=initializer,activation=None)\n",
    "        # o = tf.layers.dense(h2,2*latent_size,activation=None,use_bias=False)\n",
    "        \n",
    "    # o is the output of encoder\n",
    "    # o[:hidden_size]: mean(z)\n",
    "    # o[hidden_size:]: log var(z)\n",
    "    \n",
    "    return o,h2"
   ]
  },
  {
   "cell_type": "code",
   "execution_count": 9,
   "metadata": {
    "code_folding": []
   },
   "outputs": [],
   "source": [
    "def simple_mlp(x,out_dim,name):\n",
    "    \n",
    "    hidden_units = FLAGS.hidden_units   # size of hidden units in a layer\n",
    "    \n",
    "    input_tensor = x\n",
    "    \n",
    "    with tf.variable_scope('%s' % name,reuse=tf.AUTO_REUSE):\n",
    "        h1 = tf.layers.dense(input_tensor,hidden_units,kernel_initializer=initializer,activation=nonlinearity)\n",
    "        h2 = tf.layers.dense(h1,hidden_units,kernel_initializer=initializer,activation=nonlinearity)\n",
    "        # h2 = tf.layers.dense(h2,hidden_units,kernel_initializer=initializer,activation=nonlinearity)\n",
    "        o = tf.layers.dense(h2,out_dim,kernel_initializer=initializer,activation=None)\n",
    "        \n",
    "    return o;"
   ]
  },
  {
   "cell_type": "code",
   "execution_count": null,
   "metadata": {
    "code_folding": []
   },
   "outputs": [],
   "source": []
  },
  {
   "cell_type": "code",
   "execution_count": 10,
   "metadata": {
    "code_folding": [
     0,
     20
    ]
   },
   "outputs": [],
   "source": [
    "def qt(input_x,nonlinearity=tf.nn.elu):\n",
    "    '''\n",
    "    Auxiliary treatment predictor\n",
    "    q(t|x)\n",
    "\n",
    "    return: logits\n",
    "    '''\n",
    "\n",
    "    input_tensor = input_x\n",
    "\n",
    "    hidden_units = 64   # size of hidden units in a layer\n",
    "    # latent_size = 2     # dimension of z\n",
    "\n",
    "    with tf.variable_scope('qt',reuse=tf.AUTO_REUSE):\n",
    "        h1 = tf.layers.dense(input_tensor,hidden_units,activation=nonlinearity)\n",
    "        h2 = tf.layers.dense(h1,hidden_units,activation=nonlinearity)\n",
    "        o = tf.layers.dense(h2,2,activation=None)\n",
    "\n",
    "    return o\n",
    "\n",
    "def qy(input_x,input_t,nonlinearity=tf.nn.elu):\n",
    "    '''\n",
    "    Auxiliary outcome predictor\n",
    "    q(y|x,t)\n",
    "\n",
    "    return: logits\n",
    "    '''\n",
    "\n",
    "    input_tensor = tf.concat([input_x,input_t],axis=-1)\n",
    "\n",
    "    hidden_units = 64   # size of hidden units in a layer\n",
    "    # latent_size = 2     # dimension of z\n",
    "\n",
    "    with tf.variable_scope('qy',reuse=tf.AUTO_REUSE):\n",
    "        h1 = tf.layers.dense(input_tensor,hidden_units,activation=nonlinearity)\n",
    "        h2 = tf.layers.dense(h1,hidden_units,activation=nonlinearity)\n",
    "        o = tf.layers.dense(h2,FLAGS.M,activation=None)\n",
    "\n",
    "    return o"
   ]
  },
  {
   "cell_type": "code",
   "execution_count": null,
   "metadata": {},
   "outputs": [],
   "source": []
  },
  {
   "cell_type": "markdown",
   "metadata": {},
   "source": [
    "#### Result evaluation"
   ]
  },
  {
   "cell_type": "code",
   "execution_count": 11,
   "metadata": {
    "code_folding": []
   },
   "outputs": [],
   "source": [
    "def eval_pehe(tau_hat,tau):\n",
    "    return np.sqrt(np.mean(np.square(tau-tau_hat)))"
   ]
  },
  {
   "cell_type": "code",
   "execution_count": null,
   "metadata": {},
   "outputs": [],
   "source": []
  },
  {
   "cell_type": "markdown",
   "metadata": {},
   "source": [
    "#### VAE utilities"
   ]
  },
  {
   "cell_type": "code",
   "execution_count": 12,
   "metadata": {
    "code_folding": [
     0
    ]
   },
   "outputs": [],
   "source": [
    "def get_kl_cost(mean,stddev, epsilon=1e-8):                      \n",
    "    '''\n",
    "    Compute the KL-divergence btw q(z|x) and p(z)\n",
    "    \n",
    "    KL(q||p)\n",
    "    \n",
    "    '''\n",
    "    \n",
    "    return tf.reduce_sum(0.5 * (tf.square(mean) + tf.square(stddev) -\n",
    "                                2.0 * tf.log(stddev + epsilon) - 1.0), axis=1)     "
   ]
  },
  {
   "cell_type": "markdown",
   "metadata": {},
   "source": [
    "### Evaluation functions"
   ]
  },
  {
   "cell_type": "code",
   "execution_count": 13,
   "metadata": {
    "code_folding": [
     0,
     3,
     12,
     40
    ]
   },
   "outputs": [],
   "source": [
    "def int_shape(x):\n",
    "    return list(map(int, x.get_shape()))\n",
    "\n",
    "def print_shape(x,varname='variable'):\n",
    "    if x is None:\n",
    "        print('%s size: None' % (varname))\n",
    "        return\n",
    "    x_shape = x.shape.as_list()\n",
    "    # print('%s size: [%d,%d,%d]' % (varname,x_shape[1],x_shape[2],x_shape[3]))\n",
    "    print(varname,end=': ')\n",
    "    print(x_shape)\n",
    "\n",
    "def tf_eval(tf_tensor,n_samples,feed_dict=None):\n",
    "    \n",
    "    MLOOP = np.int(np.ceil(n_samples/FLAGS.batch_size))\n",
    "    \n",
    "    dd = tf_tensor.shape.as_list()[1:]\n",
    "    dd.insert(0,n_samples)\n",
    "    \n",
    "    x = np.zeros(dd)\n",
    "    \n",
    "    for mloop in range(MLOOP):\n",
    "        \n",
    "        st = mloop*FLAGS.batch_size\n",
    "        ed = min((mloop+1)*FLAGS.batch_size, n_samples)\n",
    "        \n",
    "        if feed_dict is not None:\n",
    "            feed_dict_i = dict()\n",
    "            for key in feed_dict.keys():\n",
    "                feed_dict_i[key] = np.random.randn(*int_shape(key))\n",
    "                feed_dict_i[key][:ed-st] = feed_dict[key][st:ed]\n",
    "            y = sess.run(tf_tensor,feed_dict=feed_dict_i)\n",
    "        else:\n",
    "            y = sess.run(tf_tensor)\n",
    "        \n",
    "        # print([st,ed])\n",
    "        x[st:ed] = y[:ed-st]\n",
    "    \n",
    "    return x\n",
    "\n",
    "def tf_eval_list(tf_tensor_list,n_samples,feed_dict=None):\n",
    "    \n",
    "    if isinstance(tf_tensor_list, list)==False:\n",
    "        print('Input not a list')\n",
    "        return None\n",
    "    \n",
    "    MLOOP = np.int(np.ceil(n_samples/FLAGS.batch_size))\n",
    "    \n",
    "    res = dict()\n",
    "\n",
    "    for key in tf_tensor_list:\n",
    "        dd = key.shape.as_list()[1:]\n",
    "        dd.insert(0,n_samples)\n",
    "        res[key] = np.zeros(dd)\n",
    "    \n",
    "    for mloop in range(MLOOP):\n",
    "        \n",
    "        st = mloop*FLAGS.batch_size\n",
    "        ed = min((mloop+1)*FLAGS.batch_size,n_samples)\n",
    "        \n",
    "        if feed_dict is not None:\n",
    "            feed_dict_i = dict()\n",
    "            for key in feed_dict.keys():\n",
    "                feed_dict_i[key] = np.random.randn(*int_shape(key))\n",
    "                feed_dict_i[key][:ed-st] = feed_dict[key][st:ed]\n",
    "            # print(feed_dict_i)\n",
    "            y = sess.run(tf_tensor_list,feed_dict=feed_dict_i)\n",
    "        else:\n",
    "            y = sess.run(tf_tensor_list)\n",
    "        \n",
    "        for i in range(len(tf_tensor_list)):\n",
    "            res[tf_tensor_list[i]][st:ed] = y[i][:ed-st]\n",
    "    \n",
    "    return res"
   ]
  },
  {
   "cell_type": "code",
   "execution_count": 14,
   "metadata": {
    "code_folding": [
     0,
     11
    ]
   },
   "outputs": [],
   "source": [
    "def ymul2y(yy,Yq):\n",
    "    \n",
    "    m_samples = yy.shape[0]\n",
    "    y = np.zeros([m_samples,1])\n",
    "    \n",
    "    for i in range(m_samples):\n",
    "        j = np.where(yy[i,:])[0][0]\n",
    "        y[i] = Yq[j] + np.random.rand()*(Yq[j+1]-Yq[j]) \n",
    "        \n",
    "    return y\n",
    "\n",
    "def estimate_causal_effect(xx,n_runs=1,progress=False):\n",
    "    \n",
    "    m_samples = xx.shape[0]\n",
    "    tau_sum = np.zeros([m_samples,1])\n",
    "    \n",
    "    for i in range(n_runs):\n",
    "        \n",
    "        if progress:\n",
    "            print('Computing %d / %d ...' % (i+1, n_runs))\n",
    "        \n",
    "        # zz = tf_eval(sampled_z_x, m_samples, {input_x: xx})\n",
    "        tau_val = tf_eval(tau_z, m_samples, {sampled_z: zz}) # this line\n",
    "        # tau_val = tf_eval(tau_z_x, m_samples, {input_x: xx})\n",
    "        \n",
    "        tau_sum += tau_val\n",
    "        \n",
    "    return tau_sum/n_runs"
   ]
  },
  {
   "cell_type": "code",
   "execution_count": 15,
   "metadata": {
    "code_folding": [
     0,
     28,
     34
    ]
   },
   "outputs": [],
   "source": [
    "def estimate_ps(xx,n_runs=1,progress=False):\n",
    "    \n",
    "    '''\n",
    "    xx: confounder proxies\n",
    "    to: observed treatment\n",
    "    '''\n",
    "    \n",
    "    m_samples = xx.shape[0]\n",
    "    # tau_sum = np.zeros([m_samples,1])\n",
    "    \n",
    "    # print(m_samples)\n",
    "    \n",
    "    yy_mdl = np.zeros([m_samples,n_runs])\n",
    "    \n",
    "    for i in range(n_runs):\n",
    "        \n",
    "        if progress:\n",
    "            print('Computing %d / %d ...' % (i+1, n_runs))\n",
    "        \n",
    "#         res = tf_eval_list([tau_z_x, m_z_x, e_z_x], m_samples, {input_x: xx})\n",
    "#         m_val = res[m_z_x]\n",
    "#         tau_val = res[tau_z_x]\n",
    "#         e_val = res[e_z_x]\n",
    "        e_val = tf_eval(e_z_x, m_samples, {input_x: xx})\n",
    "        yy_mdl[:,i] = e_val.reshape([-1,])\n",
    "        \n",
    "    return yy_mdl\n",
    "\n",
    "def eval_nll_ps(X_val,T_val,n_runs=1):\n",
    "    ps_val = np.mean(estimate_ps(X_val,n_runs=100),axis=1)\n",
    "    loglik_ps_val = np.log(T_val[:,0]*(1-ps_val)+T_val[:,1]*ps_val)\n",
    "    ps_nll_val = -np.mean(loglik_ps_val)\n",
    "    return ps_nll_val\n",
    "\n",
    "def eval_nll_ps_x(X_val,T_val):\n",
    "    \n",
    "    m_samples = X_val.shape[0]\n",
    "    ps_val = tf_eval(e_x, m_samples, {input_x: X_val}).reshape([-1,])\n",
    "    loglik_ps_val = np.log(T_val[:,0]*(1-ps_val)+T_val[:,1]*ps_val)\n",
    "    ps_nll_val = -np.mean(loglik_ps_val)\n",
    "    \n",
    "    return ps_nll_val"
   ]
  },
  {
   "cell_type": "code",
   "execution_count": null,
   "metadata": {},
   "outputs": [],
   "source": []
  },
  {
   "cell_type": "markdown",
   "metadata": {},
   "source": [
    "### Load data"
   ]
  },
  {
   "cell_type": "code",
   "execution_count": 16,
   "metadata": {
    "code_folding": [
     0
    ]
   },
   "outputs": [],
   "source": [
    "def load_ihdp(trial_id=0,filepath='./data/',istrain=True):\n",
    "    \n",
    "    if istrain:\n",
    "        data_file = filepath+'ihdp_npci_1-1000.train.npz'\n",
    "    else:\n",
    "        data_file = filepath+'ihdp_npci_1-1000.test.npz'\n",
    "        \n",
    "    data = np.load(data_file)\n",
    "    \n",
    "    x = data['x'][:,:,trial_id]\n",
    "    y = data['yf'][:,trial_id]\n",
    "    t = data['t'][:,trial_id]\n",
    "    ycf = data['ycf'][:,trial_id]\n",
    "    mu0 = data['mu0'][:,trial_id]\n",
    "    mu1 = data['mu1'][:,trial_id]\n",
    "    \n",
    "    return x,y,t,ycf,mu0,mu1"
   ]
  },
  {
   "cell_type": "code",
   "execution_count": 17,
   "metadata": {},
   "outputs": [],
   "source": [
    "# Loading normalized IHDP example\n",
    "data = np.load('../ihdp_example.npy',allow_pickle=True).item()\n",
    "X = data['X'] # Confounder proxiess\n",
    "Y = data['Y'] # Factual outcomes\n",
    "T = data['T'] # Treatment\n",
    "Tau = data['Tau']  # Ground truth ITE\n",
    "\n",
    "n_samples = X.shape[0]"
   ]
  },
  {
   "cell_type": "code",
   "execution_count": null,
   "metadata": {},
   "outputs": [],
   "source": []
  },
  {
   "cell_type": "code",
   "execution_count": 21,
   "metadata": {},
   "outputs": [],
   "source": [
    "# normalization\n",
    "\n",
    "y_std = 1.\n",
    "\n",
    "if NORM:\n",
    "    y_m = np.mean(Y)\n",
    "    y_std = np.std(Y)\n",
    "\n",
    "    Y = (Y-y_m)/y_std\n",
    "\n",
    "    Tau = Tau/y_std"
   ]
  },
  {
   "cell_type": "markdown",
   "metadata": {},
   "source": [
    "#### \\# Preprocessing"
   ]
  },
  {
   "cell_type": "code",
   "execution_count": 23,
   "metadata": {},
   "outputs": [],
   "source": [
    "# Break Y into M bins\n",
    "\n",
    "M = FLAGS.M\n",
    "q = np.linspace(0,1,M+1)\n",
    "\n",
    "Yq = np.quantile(Y,q)\n",
    "\n",
    "Yqq = Yq.copy()\n",
    "Yqq[0] = -1e10\n",
    "Yqq[-1] = 1e10\n",
    "\n",
    "n_samples = Y.shape[0]\n",
    "Ymul = np.zeros([n_samples,M])\n",
    "\n",
    "for i in range(n_samples):\n",
    "    for j in range(M):\n",
    "        if Y[i]>= Yqq[j] and Y[i]<Yqq[j+1]:\n",
    "            Ymul[i,j] = 1\n",
    "            break"
   ]
  },
  {
   "cell_type": "markdown",
   "metadata": {},
   "source": [
    "#### Cross-validation splitting"
   ]
  },
  {
   "cell_type": "code",
   "execution_count": 25,
   "metadata": {},
   "outputs": [],
   "source": [
    "prob_train = 0.7\n",
    "\n",
    "n_train_samples = int(np.ceil(prob_train*n_samples))\n",
    "\n",
    "shuff_idx = np.array(range(n_samples))\n",
    "# Shuffle the indices\n",
    "# np.random.shuffle(shuff_idx)\n",
    "\n",
    "train_idx = shuff_idx[:n_train_samples]\n",
    "val_idx = shuff_idx[n_train_samples:]"
   ]
  },
  {
   "cell_type": "code",
   "execution_count": 26,
   "metadata": {},
   "outputs": [],
   "source": [
    "X_val = X[val_idx]\n",
    "Y_val = Y[val_idx]\n",
    "T_val = T[val_idx]\n",
    "\n",
    "X = X[train_idx]\n",
    "Y = Y[train_idx]\n",
    "T = T[train_idx]\n",
    "Ymul = Ymul[train_idx]\n",
    "\n",
    "n_samples = n_train_samples"
   ]
  },
  {
   "cell_type": "code",
   "execution_count": 27,
   "metadata": {},
   "outputs": [],
   "source": [
    "Tau_val = Tau[val_idx]\n",
    "Tau = Tau[train_idx]"
   ]
  },
  {
   "cell_type": "code",
   "execution_count": null,
   "metadata": {},
   "outputs": [],
   "source": []
  },
  {
   "cell_type": "code",
   "execution_count": 28,
   "metadata": {},
   "outputs": [],
   "source": [
    "t1_ind = T[:,1]==1   # find which column has the treatment == 1\n",
    "t0_ind = T[:,0]==1 \n",
    "\n",
    "n0 = np.sum(t0_ind)\n",
    "n1 = np.sum(t1_ind)\n",
    "\n",
    "X0 = X[t0_ind]\n",
    "X1 = X[t1_ind]\n",
    "\n",
    "Y0 = Y[t0_ind]\n",
    "Y1 = Y[t1_ind]"
   ]
  },
  {
   "cell_type": "code",
   "execution_count": 29,
   "metadata": {
    "code_folding": []
   },
   "outputs": [],
   "source": [
    "def gauss_sampler(latent_code=None):\n",
    "    epsilon = tf.random_normal([FLAGS.batch_size, FLAGS.hidden_size])\n",
    "    \n",
    "    # input_tensor = tf.cast(input_tensor,tf.float32)\n",
    "    # input_t = tf.cast(input_t, tf.float32)\n",
    "    \n",
    "    # If input is none, sample z from prior\n",
    "    # input_tensor[:half]: mean, input_tensor[half:]: log var,\n",
    "    if latent_code is None:\n",
    "        mean = None\n",
    "        stddev = None\n",
    "        input_sample = epsilon\n",
    "    else:\n",
    "        mean = latent_code[:, :FLAGS.hidden_size]\n",
    "        stddev = tf.sqrt(tf.exp(latent_code[:, FLAGS.hidden_size:]))\n",
    "        input_sample = mean + epsilon * stddev\n",
    "        \n",
    "    return input_sample"
   ]
  },
  {
   "cell_type": "markdown",
   "metadata": {},
   "source": [
    "### Model specification"
   ]
  },
  {
   "cell_type": "markdown",
   "metadata": {},
   "source": [
    "#### \\# Encoder"
   ]
  },
  {
   "cell_type": "code",
   "execution_count": 30,
   "metadata": {},
   "outputs": [
    {
     "name": "stdout",
     "output_type": "stream",
     "text": [
      "WARNING:tensorflow:From <ipython-input-8-481aa1bec777>:123: dense (from tensorflow.python.layers.core) is deprecated and will be removed in a future version.\n",
      "Instructions for updating:\n",
      "Use keras.layers.Dense instead.\n",
      "WARNING:tensorflow:From /usr/local/lib/python3.6/dist-packages/tensorflow_core/python/layers/core.py:187: Layer.apply (from tensorflow.python.keras.engine.base_layer) is deprecated and will be removed in a future version.\n",
      "Instructions for updating:\n",
      "Please use `layer.__call__` method instead.\n"
     ]
    }
   ],
   "source": [
    "input_x = tf.placeholder(tf.float32, shape=[FLAGS.batch_size, FLAGS.x_dim])\n",
    "input_t = tf.placeholder(tf.int32, shape=[FLAGS.batch_size, FLAGS.t_dim])\n",
    "input_y = tf.placeholder(tf.float32, shape=[FLAGS.batch_size, FLAGS.y_dim])\n",
    "input_ymul = tf.placeholder(tf.int32, shape=[FLAGS.batch_size, FLAGS.M])\n",
    "\n",
    "_,phi_x = encoder2(input_x,None,None,'encoderX')\n",
    "\n",
    "if AVB:\n",
    "    if XONLY: sampled_z = s_encoder(phi_x, None, None)  # q(z|x)\n",
    "    else: sampled_z = s_encoder(phi_x, input_y, tf.cast(input_t,tf.float32))  # q(z|x)\n",
    "    \n",
    "    nu_q_vec = critic(sampled_z, None, 'ELBO')\n",
    "    nu_p_vec = critic(tf.random.normal([FLAGS.batch_size, FLAGS.hidden_size]), None, 'ELBO')\n",
    "\n",
    "    loss_kl = tf.reduce_mean(nu_q_vec) - tf.reduce_mean(tf.exp(nu_p_vec))\n",
    "    \n",
    "else:\n",
    "    if XONLY: latent_code = encoder(phi_x, None, None)  # q(z|x)\n",
    "    else: latent_code = encoder(phi_x, input_y, tf.cast(input_t,tf.float32))  # q(z|x)\n",
    "    sampled_z = gauss_sampler(latent_code)\n",
    "    \n",
    "    mean = latent_code[:,:FLAGS.hidden_size]\n",
    "    stddev = tf.sqrt(tf.exp(latent_code[:,FLAGS.hidden_size:]))\n",
    "    loss_kl_vec = get_kl_cost(mean,stddev)\n",
    "    loss_kl = tf.reduce_mean(loss_kl_vec)"
   ]
  },
  {
   "cell_type": "markdown",
   "metadata": {},
   "source": [
    "#### \\# propensity model absed on $x$"
   ]
  },
  {
   "cell_type": "code",
   "execution_count": 32,
   "metadata": {},
   "outputs": [
    {
     "name": "stdout",
     "output_type": "stream",
     "text": [
      "WARNING:tensorflow:From <ipython-input-32-10af06cafe52>:4: softmax_cross_entropy_with_logits (from tensorflow.python.ops.nn_ops) is deprecated and will be removed in a future version.\n",
      "Instructions for updating:\n",
      "\n",
      "Future major versions of TensorFlow will allow gradients to flow\n",
      "into the labels input on backprop by default.\n",
      "\n",
      "See `tf.nn.softmax_cross_entropy_with_logits_v2`.\n",
      "\n"
     ]
    }
   ],
   "source": [
    "logit_t_x = simple_mlp(input_x, 2, 'ps_x') # propensity score\n",
    "e_x = tf.reshape(tf.nn.softmax(logit_t_x)[:,1],[-1,1])\n",
    "\n",
    "loss_e_x_vec = tf.nn.softmax_cross_entropy_with_logits(labels=input_t, logits=logit_t_x)\n",
    "loss_e_x = tf.reduce_mean(loss_e_x_vec)"
   ]
  },
  {
   "cell_type": "markdown",
   "metadata": {},
   "source": [
    "#### \\# Robinson residual"
   ]
  },
  {
   "cell_type": "code",
   "execution_count": 33,
   "metadata": {
    "scrolled": false
   },
   "outputs": [],
   "source": [
    "if RDECOMP:\n",
    "\n",
    "    m_z = simple_mlp(sampled_z, 1, 'm') # expected outcome \n",
    "    tau_z = simple_mlp(sampled_z, 1, 'tau') # causal effect\n",
    "    logit_t_z = simple_mlp(sampled_z, 2, 'ps') # propensity score\n",
    "    e_z = tf.reshape(tf.nn.softmax(logit_t_z)[:,1],[-1,1])\n",
    "\n",
    "    loss_e_vec = tf.nn.softmax_cross_entropy_with_logits(labels=input_t, logits=logit_t_z)\n",
    "    loss_e = tf.reduce_mean(loss_e_vec)\n",
    "\n",
    "    # Continuous outcome\n",
    "    input_t_bin = tf.reshape(tf.cast(input_t[:,1],dtype=tf.float32),[-1,1])\n",
    "    robinson_res = (input_y - m_z) - (tf.cast(input_t_bin, dtype=tf.float32) - e_z) * tau_z\n",
    "\n",
    "    loss_r = tf.reduce_mean(tf.square(robinson_res))\n",
    "\n",
    "    loss_m = tf.reduce_mean(tf.square(input_y - m_z))"
   ]
  },
  {
   "cell_type": "code",
   "execution_count": null,
   "metadata": {},
   "outputs": [],
   "source": []
  },
  {
   "cell_type": "markdown",
   "metadata": {},
   "source": [
    "#### \\# Regular decomposition"
   ]
  },
  {
   "cell_type": "code",
   "execution_count": 35,
   "metadata": {},
   "outputs": [],
   "source": [
    "if RDECOMP is False:\n",
    "\n",
    "\n",
    "#     # S-learner\n",
    "#     input_zt = tf.concat([sampled_z,tf.cast(input_t,tf.float32)],axis=1)\n",
    "#     mu_t_z = simple_mlp(input_zt, 1, 'tau')\n",
    "#     t0_np = np.zeros([FLAGS.batch_size,2],dtype=np.int32); t0_np[:,0] = 1\n",
    "#     t1_np = np.zeros([FLAGS.batch_size,2],dtype=np.int32); t1_np[:,1] = 1\n",
    "#     t0_tf = tf.constant(t0_np,tf.float32)\n",
    "#     t1_tf = tf.constant(t1_np,tf.float32)\n",
    "#     input_zt0 = tf.concat([sampled_z,t0_tf],axis=1)\n",
    "#     input_zt1 = tf.concat([sampled_z,t1_tf],axis=1)\n",
    "#     mu_0_z = simple_mlp(input_zt0, 1, 'tau')\n",
    "#     mu_1_z = simple_mlp(input_zt1, 1, 'tau')\n",
    "    \n",
    "    \n",
    "    # T-learner\n",
    "    mu_0_z = simple_mlp(sampled_z, 1, 'tau0')\n",
    "    mu_1_z = simple_mlp(sampled_z, 1, 'tau1')\n",
    "    input_t_bin = tf.reshape(tf.cast(input_t[:,1],dtype=tf.float32),[-1,1])\n",
    "    mu_t_z = input_t_bin*mu_1_z + (1-input_t_bin)*mu_0_z\n",
    "    \n",
    "    \n",
    "    tau_z = mu_1_z - mu_0_z # causal effect\n",
    "\n",
    "    logit_t_z = simple_mlp(sampled_z, 2, 'ps') # propensity score\n",
    "    e_z = tf.reshape(tf.nn.softmax(logit_t_z)[:,1],[-1,1])\n",
    "\n",
    "    loss_e_vec = tf.nn.softmax_cross_entropy_with_logits(labels=input_t, logits=logit_t_z)\n",
    "    loss_e = tf.reduce_mean(loss_e_vec)\n",
    "\n",
    "    robinson_res = input_y - mu_t_z\n",
    "\n",
    "    loss_r = tf.reduce_mean(tf.square(robinson_res))\n"
   ]
  },
  {
   "cell_type": "markdown",
   "metadata": {},
   "source": [
    "#### \\# Balancing KL"
   ]
  },
  {
   "cell_type": "code",
   "execution_count": 37,
   "metadata": {},
   "outputs": [],
   "source": [
    "input_x_t0 = tf.placeholder(tf.float32, shape=[FLAGS.batch_size, FLAGS.x_dim])\n",
    "input_x_t1 = tf.placeholder(tf.float32, shape=[FLAGS.batch_size, FLAGS.x_dim])\n",
    "input_y_t0 = tf.placeholder(tf.float32, shape=[FLAGS.batch_size, FLAGS.y_dim])\n",
    "input_y_t1 = tf.placeholder(tf.float32, shape=[FLAGS.batch_size, FLAGS.y_dim])\n",
    "\n",
    "t0_np = np.zeros([FLAGS.batch_size,2],dtype=np.float32); t0_np[:,0] = 1\n",
    "t1_np = np.zeros([FLAGS.batch_size,2],dtype=np.float32); t1_np[:,1] = 1\n",
    "t0_tf = tf.constant(t0_np)\n",
    "t1_tf = tf.constant(t1_np)\n",
    "\n",
    "_,phi_x_t0 = encoder2(input_x_t0,None,None,'encoderX')\n",
    "_,phi_x_t1 = encoder2(input_x_t1,None,None,'encoderX')\n",
    "\n",
    "\n",
    "if AVB:\n",
    "    if XONLY:\n",
    "        sampled_z0 = s_encoder(phi_x_t0, None, None)\n",
    "        sampled_z1 = s_encoder(phi_x_t1, None, None)\n",
    "    else:\n",
    "        sampled_z0 = s_encoder(phi_x_t0, input_y_t0, t0_tf)\n",
    "        sampled_z1 = s_encoder(phi_x_t1, input_y_t1, t1_tf)\n",
    "else:\n",
    "    if XONLY:\n",
    "        latent_code_t0 = encoder(phi_x_t0, None, None)\n",
    "        latent_code_t1 = encoder(phi_x_t1, None, None)\n",
    "    else:\n",
    "        latent_code_t0 = encoder(phi_x_t0, input_y_t0, t0_tf)\n",
    "        latent_code_t1 = encoder(phi_x_t1, input_y_t1, t1_tf)\n",
    "    sampled_z0 = gauss_sampler(latent_code_t0)\n",
    "    sampled_z1 = gauss_sampler(latent_code_t1)\n",
    "\n",
    "\n",
    "nu0_vec = critic(sampled_z0, None, 'KL')\n",
    "nu1_vec = critic(sampled_z1, None, 'KL')\n",
    "\n",
    "loss_fkl = tf.reduce_mean(nu0_vec) - tf.reduce_mean(tf.exp(nu1_vec))"
   ]
  },
  {
   "cell_type": "code",
   "execution_count": 38,
   "metadata": {},
   "outputs": [],
   "source": [
    "# t1_np"
   ]
  },
  {
   "cell_type": "markdown",
   "metadata": {},
   "source": [
    "#### \\# Auxiliary models"
   ]
  },
  {
   "cell_type": "code",
   "execution_count": 39,
   "metadata": {},
   "outputs": [],
   "source": [
    "sampled_z_x = generator(input_x)\n",
    "\n",
    "if RDECOMP:\n",
    "    tau_z_x = simple_mlp(sampled_z_x, 1, 'tau') # causal effect\n",
    "    m_z_x = simple_mlp(sampled_z_x, 1, 'm') # expected outcome \n",
    "else:\n",
    "    \n",
    "#     # S-learner\n",
    "#     input_zt0_x = tf.concat([sampled_z_x,t0_tf],axis=1)\n",
    "#     input_zt1_x = tf.concat([sampled_z_x,t1_tf],axis=1)\n",
    "#     mu_0_z_x = simple_mlp(input_zt0_x, 1, 'tau')\n",
    "#     mu_1_z_x = simple_mlp(input_zt1_x, 1, 'tau')\n",
    "#     tau_z_x = mu_1_z_x - mu_0_z_x # causal effect\n",
    "\n",
    "    mu_0_z_x = simple_mlp(sampled_z_x, 1, 'tau0')\n",
    "    mu_1_z_x = simple_mlp(sampled_z_x, 1, 'tau1')\n",
    "    tau_z_x = mu_1_z_x - mu_0_z_x\n",
    "\n",
    "logit_t_z_x = simple_mlp(sampled_z_x, 2, 'ps') \n",
    "e_z_x = tf.reshape(tf.nn.softmax(logit_t_z_x)[:,1],[-1,1]) # propensity score\n",
    "\n",
    "\n",
    "nu0x_vec = critic(sampled_z, input_x, 'gen')\n",
    "nu1x_vec = critic(sampled_z_x, input_x, 'gen')\n",
    "\n",
    "loss_xkl = tf.reduce_mean(nu0x_vec) - tf.reduce_mean(tf.exp(nu1x_vec))"
   ]
  },
  {
   "cell_type": "code",
   "execution_count": 40,
   "metadata": {},
   "outputs": [],
   "source": [
    "\n",
    "feature_x = phi_x\n",
    "\n",
    "\n",
    "logit_t_x = qt(feature_x)\n",
    "loglik_qt = tf.nn.softmax_cross_entropy_with_logits_v2(labels=input_t, logits=logit_t_x)\n",
    "loss_qt = tf.reduce_mean(loglik_qt)\n",
    "# continuous outcome\n",
    "# binned multinomial regression ^_^\n",
    "\n",
    "\n",
    "logit_y_xt = qy(feature_x,tf.cast(input_t,tf.float32))\n",
    "loglik_qy = tf.nn.softmax_cross_entropy_with_logits(labels=input_ymul, logits=logit_y_xt)\n",
    "loss_qy = tf.reduce_mean(loglik_qy)"
   ]
  },
  {
   "cell_type": "code",
   "execution_count": 41,
   "metadata": {},
   "outputs": [],
   "source": [
    "LAM = tf.placeholder(tf.float32)\n",
    "RHO = tf.placeholder(tf.float32)\n",
    "\n",
    "loss_elbo = RHO*loss_r + gamma*loss_e + beta*loss_kl\n",
    "loss_bnice = loss_elbo + LAM*loss_fkl"
   ]
  },
  {
   "cell_type": "code",
   "execution_count": null,
   "metadata": {},
   "outputs": [],
   "source": []
  },
  {
   "cell_type": "markdown",
   "metadata": {},
   "source": [
    "### Optimizer specifications"
   ]
  },
  {
   "cell_type": "code",
   "execution_count": 42,
   "metadata": {},
   "outputs": [],
   "source": [
    "m_vars = [v for v in tf.get_collection(\n",
    "    tf.GraphKeys.TRAINABLE_VARIABLES) if v.name.startswith('m')]\n",
    "tau_vars = [v for v in tf.get_collection(\n",
    "    tf.GraphKeys.TRAINABLE_VARIABLES) if v.name.startswith('tau')]\n",
    "ps_vars = [v for v in tf.get_collection(\n",
    "    tf.GraphKeys.TRAINABLE_VARIABLES) if v.name.startswith('ps')]\n",
    "\n",
    "# critic_vars = [v for v in tf.get_collection(\n",
    "#     tf.GraphKeys.TRAINABLE_VARIABLES) if v.name.startswith('critic-KL')]\n",
    "critic_vars = [v for v in tf.get_collection(\n",
    "    tf.GraphKeys.TRAINABLE_VARIABLES) if v.name.startswith('critic')]\n",
    "encoder_vars = [v for v in tf.get_collection(\n",
    "    tf.GraphKeys.TRAINABLE_VARIABLES) if v.name.startswith('encoder')]\n",
    "gen_vars = [v for v in tf.get_collection(\n",
    "    tf.GraphKeys.TRAINABLE_VARIABLES) if v.name.startswith('generator')]\n",
    "\n",
    "# elbo_vars = m_vars + tau_vars + ps_vars\n",
    "elbo_vars = m_vars + tau_vars + ps_vars + encoder_vars\n",
    "\n",
    "qt_vars = [v for v in tf.get_collection(\n",
    "    tf.GraphKeys.TRAINABLE_VARIABLES) if v.name.startswith('qt')]\n",
    "qy_vars = [v for v in tf.get_collection(\n",
    "    tf.GraphKeys.TRAINABLE_VARIABLES) if v.name.startswith('qy')]"
   ]
  },
  {
   "cell_type": "code",
   "execution_count": 43,
   "metadata": {},
   "outputs": [],
   "source": [
    "if l2_reg>0:\n",
    "\n",
    "    l2_loss = 0.\n",
    "    var_list = [elbo_vars, critic_vars, gen_vars]\n",
    "    for vv in var_list:\n",
    "        for v in vv:\n",
    "            if ('bias' in v.name) is False:\n",
    "                l2_loss += tf.reduce_sum(tf.square(v))\n",
    "\n",
    "\n",
    "\n",
    "    l2_loss *= l2_reg\n",
    "\n",
    "    loss_fkl += l2_loss\n",
    "    loss_xkl += l2_loss\n",
    "    loss_bnice += l2_loss\n",
    "\n",
    "\n",
    "loss_bnice += loss_e_x"
   ]
  },
  {
   "cell_type": "code",
   "execution_count": null,
   "metadata": {},
   "outputs": [],
   "source": []
  },
  {
   "cell_type": "code",
   "execution_count": 44,
   "metadata": {},
   "outputs": [],
   "source": [
    "learning_rate = tf.placeholder(tf.float32)\n",
    "\n",
    "elbo_lr = .1*learning_rate\n",
    "critic_lr = learning_rate\n",
    "\n",
    "Optimizer = tf.train.AdamOptimizer\n",
    "# Optimizer = tf.train.RMSPropOptimizer\n",
    "\n",
    "\n",
    "train_elbo = Optimizer(learning_rate).minimize(loss_elbo,var_list=elbo_vars)   # for encoder/decoder\n",
    "# train_critic = tf.train.AdamOptimizer(critic_lr).minimize(-loss_fkl, var_list=critic_vars)\n",
    "if AVB:\n",
    "    train_critic = Optimizer(critic_lr).minimize(-loss_fkl-loss_xkl-loss_kl, var_list=critic_vars)\n",
    "else:\n",
    "    train_critic = Optimizer(critic_lr).minimize(-loss_fkl-loss_xkl, var_list=critic_vars)\n",
    "\n",
    "train_bnice = Optimizer(learning_rate).minimize(loss_bnice, var_list=elbo_vars)\n",
    "\n",
    "train_aux_qt = Optimizer(learning_rate).minimize(loss_qt, var_list=qt_vars)   # for q(t|x)\n",
    "train_aux_qy = Optimizer(learning_rate).minimize(loss_qy, var_list=qy_vars)   # for q(y|t,x)\n",
    "\n",
    "train_aux_gen = Optimizer(learning_rate).minimize(loss_xkl, var_list=gen_vars)"
   ]
  },
  {
   "cell_type": "code",
   "execution_count": null,
   "metadata": {},
   "outputs": [],
   "source": [
    "# critic_vars"
   ]
  },
  {
   "cell_type": "markdown",
   "metadata": {},
   "source": [
    "### Model initialization"
   ]
  },
  {
   "cell_type": "code",
   "execution_count": 45,
   "metadata": {},
   "outputs": [],
   "source": [
    "# Initialization\n",
    "\n",
    "initializer = tf.global_variables_initializer()\n",
    "sess.run(initializer)"
   ]
  },
  {
   "cell_type": "markdown",
   "metadata": {},
   "source": [
    "### Training"
   ]
  },
  {
   "cell_type": "code",
   "execution_count": 46,
   "metadata": {},
   "outputs": [
    {
     "data": {
      "image/png": "[encoded data removed]",
      "text/plain": [
       "<Figure size 432x288 with 1 Axes>"
      ]
     },
     "metadata": {
      "needs_background": "light"
     },
     "output_type": "display_data"
    }
   ],
   "source": [
    "_ = plt.hist(Y, bins=20)"
   ]
  },
  {
   "cell_type": "code",
   "execution_count": 47,
   "metadata": {},
   "outputs": [
    {
     "name": "stdout",
     "output_type": "stream",
     "text": [
      "[1, 0.7112258899211884, -0.46163112834095954, 4.002407550811768]\n",
      "PEHE=1.41, CORR=0.29\n",
      "[2, -0.7041922469139099, 0.016403754055499986, 3.6349048614501953]\n",
      "PEHE=0.98, CORR=0.42\n",
      "[3, -1.135898557126522, 0.014679739713668871, 3.4901602268218994]\n",
      "PEHE=0.95, CORR=0.71\n",
      "[4, -1.328780823945999, 0.03495693105459208, 3.6245474815368652]\n",
      "PEHE=0.93, CORR=0.80\n",
      "[5, -1.4135482244491577, 0.10398260891437527, 3.625148057937622]\n",
      "PEHE=1.06, CORR=0.81\n",
      "[6, -1.4528890280723572, 0.13812440231442447, 3.449954032897949]\n",
      "PEHE=1.13, CORR=0.81\n",
      "[7, -1.4756464225053787, 0.18926314580440518, 3.6054766178131104]\n",
      "PEHE=0.88, CORR=0.72\n",
      "[8, -1.4900938521623612, 0.20769159895181655, 3.5240437984466553]\n",
      "PEHE=0.99, CORR=0.50\n",
      "[9, -1.492479257583618, 0.24155121585726735, 3.5799155235290527]\n",
      "PEHE=1.09, CORR=0.73\n",
      "[10, -1.5020298686027527, 0.23873753201961523, 3.634438991546631]\n",
      "PEHE=1.05, CORR=0.66\n"
     ]
    },
    {
     "data": {
      "image/png": "[encoded data removed]",
      "text/plain": [
       "<Figure size 432x288 with 1 Axes>"
      ]
     },
     "metadata": {
      "needs_background": "light"
     },
     "output_type": "display_data"
    }
   ],
   "source": [
    "# Training for encoder/deconder\n",
    "# lam = 0.01\n",
    "\n",
    "max_epoch = 10\n",
    "updates_per_epoch = 1000\n",
    "\n",
    "epoch_record = np.zeros([max_epoch,])\n",
    "\n",
    "for epoch_id in range(max_epoch):\n",
    "    \n",
    "    loss_record = np.zeros([updates_per_epoch,])\n",
    "    loss_xkl_record = np.zeros([updates_per_epoch,])\n",
    "    \n",
    "    t0 = time()\n",
    "    \n",
    "    for step in range(updates_per_epoch):\n",
    "\n",
    "        # n_samples\n",
    "        ind = np.random.choice(n_samples,FLAGS.batch_size)\n",
    "        # ind\n",
    "        feed_dict = {learning_rate:lr, RHO:rho, LAM:lam}\n",
    "        feed_dict[input_x] = X[ind]\n",
    "        feed_dict[input_y] = Y[ind]\n",
    "        feed_dict[input_t] = T[ind]\n",
    "        \n",
    "        feed_dict[input_ymul] = Ymul[ind]\n",
    "        \n",
    "        ind = np.random.choice(n0,FLAGS.batch_size)\n",
    "        feed_dict[input_x_t0] = X0[ind]\n",
    "        feed_dict[input_y_t0] = Y0[ind]\n",
    "        ind = np.random.choice(n1,FLAGS.batch_size)\n",
    "        feed_dict[input_x_t1] = X1[ind]\n",
    "        feed_dict[input_y_t1] = Y1[ind]\n",
    "        \n",
    "#         _,_,loss_qt_val,loss_qy_val = sess.run([train_aux_qt, train_aux_qy, loss_qt, loss_qy], feed_dict)\n",
    "#         loss_record[step] = loss_qt_val + loss_qy_val\n",
    "        \n",
    "#         _,loss_elbo_val = sess.run([train_elbo, loss_elbo], feed_dict)\n",
    "#         loss_record[step] = loss_elbo_val\n",
    "        \n",
    "#         _,_,loss_bnice_val = sess.run([train_critic, train_bnice, loss_bnice], feed_dict)\n",
    "#         loss_record[step] = loss_bnice_val\n",
    "\n",
    "#         _,_,loss_xkl_val,loss_bnice_val = sess.run([train_critic, train_aux_gen, \\\n",
    "#                                         loss_xkl,loss_bnice], feed_dict)\n",
    "\n",
    "\n",
    "        _,_,_,loss_xkl_val,loss_bnice_val = sess.run([train_critic, train_bnice, train_aux_gen, \\\n",
    "                                        loss_xkl,loss_bnice], feed_dict)\n",
    "    \n",
    "\n",
    "        loss_record[step] = loss_bnice_val\n",
    "        loss_xkl_record[step] = loss_xkl_val\n",
    "    \n",
    "    t1 = time()\n",
    "    \n",
    "    klm = np.mean(loss_xkl_record)+1\n",
    "    print([epoch_id+1,np.mean(loss_record),klm,t1-t0])\n",
    "    epoch_record[epoch_id] = np.mean(loss_record)\n",
    "    \n",
    "    \n",
    "    tau_hat = estimate_causal_effect(X, n_runs=128, progress=False)\n",
    "\n",
    "    pehe_bnice = eval_pehe(tau_hat, Tau)*y_std\n",
    "    corr_bnice = np.corrcoef(tau_hat.reshape([-1,]),Tau.reshape([-1,]))[0,1]\n",
    "    \n",
    "    print('PEHE=%.2f, CORR=%.2f' % (pehe_bnice, corr_bnice))\n",
    "    \n",
    "_ = plt.plot(epoch_record)"
   ]
  }
 ],
 "metadata": {
  "kernelspec": {
   "display_name": "Python 3",
   "language": "python",
   "name": "python3"
  },
  "language_info": {
   "codemirror_mode": {
    "name": "ipython",
    "version": 3
   },
   "file_extension": ".py",
   "mimetype": "text/x-python",
   "name": "python",
   "nbconvert_exporter": "python",
   "pygments_lexer": "ipython3",
   "version": "3.6.9"
  }
 },
 "nbformat": 4,
 "nbformat_minor": 2
}
