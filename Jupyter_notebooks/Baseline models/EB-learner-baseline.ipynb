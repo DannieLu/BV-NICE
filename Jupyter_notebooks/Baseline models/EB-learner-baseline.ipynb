{
 "cells": [
  {
   "cell_type": "markdown",
   "metadata": {},
   "source": [
    "## EB-learner baseline for IHDP\n",
    "* Entropy-balancing weighting\n",
    "* Implemented with tensorflow"
   ]
  },
  {
   "cell_type": "code",
   "execution_count": 1,
   "metadata": {},
   "outputs": [],
   "source": [
    "import os\n",
    "import sys\n",
    "from time import time\n",
    "\n",
    "import numpy as np\n",
    "import tensorflow as tf\n",
    "\n",
    "import pandas as pd\n",
    "import math\n",
    "\n",
    "import seaborn as sns\n",
    "\n",
    "import matplotlib.pyplot as plt\n",
    "%matplotlib inline\n",
    "\n",
    "config = tf.ConfigProto()\n",
    "config.gpu_options.allow_growth = True\n",
    "config.allow_soft_placement=True\n",
    "sess = tf.Session(config=config)"
   ]
  },
  {
   "cell_type": "code",
   "execution_count": 2,
   "metadata": {
    "code_folding": []
   },
   "outputs": [],
   "source": [
    "class flags:\n",
    "    \n",
    "    x_dim = 25\n",
    "    y_dim = 1\n",
    "    t_dim = 2\n",
    "    M = 30\n",
    "    \n",
    "    # optimization\n",
    "    learning_rate = 1e-3 # Base learning rate\n",
    "    lr_decay = 0.999995 # Learning rate decay, applied every step of the optimization\n",
    "    \n",
    "    batch_size = 128 # Batch size during training per GPU\n",
    "    hidden_size = 2\n",
    "    \n",
    "    \n",
    "FLAGS = flags()\n",
    "args = FLAGS\n",
    "\n",
    "DTYPE = tf.float32"
   ]
  },
  {
   "cell_type": "code",
   "execution_count": 3,
   "metadata": {},
   "outputs": [
    {
     "name": "stderr",
     "output_type": "stream",
     "text": [
      "/usr/local/lib/python3.6/dist-packages/sklearn/ensemble/weight_boosting.py:29: DeprecationWarning: numpy.core.umath_tests is an internal NumPy module and should not be imported. It will be removed in a future NumPy release.\n",
      "  from numpy.core.umath_tests import inner1d\n"
     ]
    }
   ],
   "source": [
    "from sklearn.ensemble import RandomForestClassifier,RandomForestRegressor"
   ]
  },
  {
   "cell_type": "code",
   "execution_count": null,
   "metadata": {},
   "outputs": [],
   "source": []
  },
  {
   "cell_type": "code",
   "execution_count": 4,
   "metadata": {},
   "outputs": [],
   "source": [
    "NORM = True\n",
    "VAL = True\n",
    "\n",
    "ihdp_id = 0"
   ]
  },
  {
   "cell_type": "code",
   "execution_count": 5,
   "metadata": {
    "code_folding": [
     0,
     3,
     12,
     40
    ]
   },
   "outputs": [],
   "source": [
    "def int_shape(x):\n",
    "    return list(map(int, x.get_shape()))\n",
    "\n",
    "def print_shape(x,varname='variable'):\n",
    "    if x is None:\n",
    "        print('%s size: None' % (varname))\n",
    "        return\n",
    "    x_shape = x.shape.as_list()\n",
    "    # print('%s size: [%d,%d,%d]' % (varname,x_shape[1],x_shape[2],x_shape[3]))\n",
    "    print(varname,end=': ')\n",
    "    print(x_shape)\n",
    "\n",
    "def tf_eval(tf_tensor,n_samples,feed_dict=None):\n",
    "    \n",
    "    MLOOP = np.int(np.ceil(n_samples/FLAGS.batch_size))\n",
    "    \n",
    "    dd = tf_tensor.shape.as_list()[1:]\n",
    "    dd.insert(0,n_samples)\n",
    "    \n",
    "    x = np.zeros(dd)\n",
    "    \n",
    "    for mloop in range(MLOOP):\n",
    "        \n",
    "        st = mloop*FLAGS.batch_size\n",
    "        ed = min((mloop+1)*FLAGS.batch_size, n_samples)\n",
    "        \n",
    "        if feed_dict is not None:\n",
    "            feed_dict_i = dict()\n",
    "            for key in feed_dict.keys():\n",
    "                feed_dict_i[key] = np.random.randn(*int_shape(key))\n",
    "                feed_dict_i[key][:ed-st] = feed_dict[key][st:ed]\n",
    "            y = sess.run(tf_tensor,feed_dict=feed_dict_i)\n",
    "        else:\n",
    "            y = sess.run(tf_tensor)\n",
    "        \n",
    "        # print([st,ed])\n",
    "        x[st:ed] = y[:ed-st]\n",
    "    \n",
    "    return x\n",
    "\n",
    "def tf_eval_list(tf_tensor_list,n_samples,feed_dict=None):\n",
    "    \n",
    "    if isinstance(tf_tensor_list, list)==False:\n",
    "        print('Input not a list')\n",
    "        return None\n",
    "    \n",
    "    MLOOP = np.int(np.ceil(n_samples/FLAGS.batch_size))\n",
    "    \n",
    "    res = dict()\n",
    "\n",
    "    for key in tf_tensor_list:\n",
    "        dd = key.shape.as_list()[1:]\n",
    "        dd.insert(0,n_samples)\n",
    "        res[key] = np.zeros(dd)\n",
    "    \n",
    "    for mloop in range(MLOOP):\n",
    "        \n",
    "        st = mloop*FLAGS.batch_size\n",
    "        ed = min((mloop+1)*FLAGS.batch_size,n_samples)\n",
    "        \n",
    "        if feed_dict is not None:\n",
    "            feed_dict_i = dict()\n",
    "            for key in feed_dict.keys():\n",
    "                feed_dict_i[key] = np.random.randn(*int_shape(key))\n",
    "                feed_dict_i[key][:ed-st] = feed_dict[key][st:ed]\n",
    "            # print(feed_dict_i)\n",
    "            y = sess.run(tf_tensor_list,feed_dict=feed_dict_i)\n",
    "        else:\n",
    "            y = sess.run(tf_tensor_list)\n",
    "        \n",
    "        for i in range(len(tf_tensor_list)):\n",
    "            res[tf_tensor_list[i]][st:ed] = y[i][:ed-st]\n",
    "    \n",
    "    return res"
   ]
  },
  {
   "cell_type": "code",
   "execution_count": null,
   "metadata": {},
   "outputs": [],
   "source": []
  },
  {
   "cell_type": "code",
   "execution_count": 6,
   "metadata": {
    "code_folding": []
   },
   "outputs": [],
   "source": [
    "def simple_mlp(x,out_dim,name):\n",
    "    \n",
    "    hidden_units = 64   # size of hidden units in a layer\n",
    "    \n",
    "    input_tensor = x\n",
    "    \n",
    "    with tf.variable_scope('%s' % name,reuse=tf.AUTO_REUSE):\n",
    "        h1 = tf.layers.dense(input_tensor,hidden_units,activation=tf.nn.relu)\n",
    "        h2 = tf.layers.dense(h1,hidden_units,activation=tf.nn.relu)\n",
    "        o = tf.layers.dense(h2,out_dim,activation=None)\n",
    "        \n",
    "    return o;\n",
    "\n",
    "def linear_mdl(x,out_dim,name):\n",
    "    \n",
    "    with tf.variable_scope('%s' % name,reuse=tf.AUTO_REUSE):\n",
    "        o = tf.layers.dense(x,out_dim,activation=None)\n",
    "        \n",
    "    return o;"
   ]
  },
  {
   "cell_type": "code",
   "execution_count": 7,
   "metadata": {},
   "outputs": [],
   "source": [
    "def eval_pehe(tau_hat,tau):\n",
    "    return np.sqrt(np.mean(np.square(tau-tau_hat)))"
   ]
  },
  {
   "cell_type": "code",
   "execution_count": null,
   "metadata": {},
   "outputs": [],
   "source": []
  },
  {
   "cell_type": "code",
   "execution_count": 8,
   "metadata": {
    "code_folding": []
   },
   "outputs": [],
   "source": [
    "def onehot(t,dim):\n",
    "    \n",
    "    m_samples = t.shape[0]\n",
    "    tt = np.zeros([m_samples,dim])\n",
    "    \n",
    "    for i in range(m_samples):\n",
    "        tt[i,np.int(t[i])] = 1\n",
    "        \n",
    "    return tt"
   ]
  },
  {
   "cell_type": "code",
   "execution_count": 9,
   "metadata": {
    "code_folding": [
     0
    ]
   },
   "outputs": [],
   "source": [
    "def load_ihdp(trial_id=0,filepath='./data/',istrain=True):\n",
    "    \n",
    "    if istrain:\n",
    "        data_file = filepath+'ihdp_npci_1-1000.train.npz'\n",
    "    else:\n",
    "        data_file = filepath+'ihdp_npci_1-1000.test.npz'\n",
    "        \n",
    "    data = np.load(data_file)\n",
    "    \n",
    "    x = data['x'][:,:,trial_id]\n",
    "    y = data['yf'][:,trial_id]\n",
    "    t = data['t'][:,trial_id]\n",
    "    ycf = data['ycf'][:,trial_id]\n",
    "    mu0 = data['mu0'][:,trial_id]\n",
    "    mu1 = data['mu1'][:,trial_id]\n",
    "    \n",
    "    return x,y,t,ycf,mu0,mu1"
   ]
  },
  {
   "cell_type": "code",
   "execution_count": 10,
   "metadata": {},
   "outputs": [],
   "source": [
    "data = np.load('../ihdp_example.npy',allow_pickle=True).item()\n",
    "X = data['X'] # Confounder proxiess\n",
    "Y = data['Y'] # Factual outcomes\n",
    "T = data['T'] # Treatment\n",
    "Tau = data['Tau']  # Ground truth ITE\n",
    "\n",
    "n_samples = X.shape[0]"
   ]
  },
  {
   "cell_type": "code",
   "execution_count": 12,
   "metadata": {},
   "outputs": [],
   "source": [
    "t1_ind = T[:,1]==1   # find which column has the treatment == 1\n",
    "t0_ind = T[:,0]==1 \n",
    "\n",
    "n0 = np.sum(t0_ind)\n",
    "n1 = np.sum(t1_ind)\n",
    "\n",
    "X0 = X[t0_ind]\n",
    "X1 = X[t1_ind]\n",
    "\n",
    "Y0 = Y[t0_ind]\n",
    "Y1 = Y[t1_ind]"
   ]
  },
  {
   "cell_type": "code",
   "execution_count": 13,
   "metadata": {
    "code_folding": [
     0
    ]
   },
   "outputs": [],
   "source": [
    "def mu_learner(x,t):\n",
    "    \n",
    "    input_tensor = tf.concat([x,tf.cast(t,tf.float32)],axis=-1) \n",
    "    \n",
    "    mu = simple_mlp(input_tensor,FLAGS.y_dim,'mu')\n",
    "    \n",
    "    return mu"
   ]
  },
  {
   "cell_type": "code",
   "execution_count": 14,
   "metadata": {},
   "outputs": [],
   "source": [
    "# train_tau = tf.train.AdamOptimizer(learning_rate).minimize(loss_r, var_list=tau_vars)"
   ]
  },
  {
   "cell_type": "markdown",
   "metadata": {},
   "source": [
    "### Training"
   ]
  },
  {
   "cell_type": "code",
   "execution_count": 15,
   "metadata": {
    "code_folding": [
     0,
     13,
     26,
     42
    ]
   },
   "outputs": [],
   "source": [
    "def estimate_causal_effect(xx, e_x_, m_x_, n_runs=1):\n",
    "\n",
    "    m_samples = xx.shape[0]\n",
    "\n",
    "    t0 = np.zeros([m_samples,FLAGS.t_dim]); t0[:,0] = 1;\n",
    "    t1 = np.zeros([m_samples,FLAGS.t_dim]); t1[:,1] = 1;\n",
    "    mu0_hat = estimate_outcome(xx, t0, e_x_, m_x_, n_runs)\n",
    "    mu1_hat = estimate_outcome(xx, t1, e_x_, m_x_, n_runs)\n",
    "\n",
    "    tau_hat = mu1_hat - mu0_hat\n",
    "\n",
    "    return tau_hat\n",
    "\n",
    "def estimate_outcome(xx, tt, e_x_, m_x_, n_runs=1):\n",
    "    m_samples = xx.shape[0]\n",
    "\n",
    "    y_t_hat = 0\n",
    "\n",
    "    for i in range(n_runs):\n",
    "\n",
    "        y_t_hat = tf_eval(y_hat,m_samples,{input_x: xx, input_t: tt, e_x: e_x_, m_x: m_x_})\n",
    "\n",
    "    y_t_hat /= n_runs\n",
    "\n",
    "    return y_t_hat\n",
    "\n",
    "def check_results(x_x,t_x,y_x,e_x_,m_x_,tau_x,msg=''):\n",
    "    \n",
    "    tau_hat = estimate_causal_effect(x_x,e_x_,m_x_).reshape([-1,])    \n",
    "    pehe_mkl = eval_pehe(tau_hat, tau_x)*y_std\n",
    "    corr_ = np.corrcoef(tau_hat.reshape([-1,]),tau_x.reshape([-1,]))[0,1]\n",
    "    err_ = np.mean(tau_hat)-4  \n",
    "    \n",
    "    Y_mdl = estimate_outcome(x_x,t_x,e_x_,m_x_)\n",
    "    rmse_ = eval_y_rmse(y_x, Y_mdl)\n",
    "\n",
    "    \n",
    "    print('%sPEHE=%.2f, CORR=%.2f, ERR=%.2f, RMSE=%.2f' % (msg, pehe_mkl, corr_, err_, rmse_) )\n",
    "    \n",
    "    return [pehe_mkl, corr_, err_, rmse_]\n",
    "\n",
    "def eval_y_rmse(yy,yy_mdl):\n",
    "    \n",
    "    yy_mdl_mean = np.mean(yy_mdl,axis=1).reshape([-1,1])\n",
    "    \n",
    "    rmse = np.sqrt(np.mean(np.square(yy-yy_mdl_mean)))\n",
    "    \n",
    "    return rmse\n"
   ]
  },
  {
   "cell_type": "code",
   "execution_count": null,
   "metadata": {},
   "outputs": [],
   "source": []
  },
  {
   "cell_type": "code",
   "execution_count": 16,
   "metadata": {},
   "outputs": [],
   "source": [
    "# Estimating Entropy balancing weights\n",
    "\n",
    "x0 = X0\n",
    "x1 = X1"
   ]
  },
  {
   "cell_type": "code",
   "execution_count": 17,
   "metadata": {},
   "outputs": [],
   "source": [
    "lam = tf.Variable(0.1*np.random.randn(1,X.shape[1]),dtype=DTYPE)"
   ]
  },
  {
   "cell_type": "code",
   "execution_count": 18,
   "metadata": {},
   "outputs": [],
   "source": [
    "x0_tf = tf.constant(x0,dtype=DTYPE)\n",
    "x1_tf = tf.constant(x1,dtype=DTYPE)"
   ]
  },
  {
   "cell_type": "code",
   "execution_count": 19,
   "metadata": {},
   "outputs": [],
   "source": [
    "x0_lam = tf.multiply(x0_tf,lam) \n",
    "x1_bar = tf.reduce_mean(x1_tf,axis=0,keepdims=True) # 1 x dim\n",
    "x1_bar_lam = tf.matmul(lam, tf.transpose(x1_bar))\n",
    "omega = tf.reduce_sum(x0_lam,axis=1)\n",
    "t1 = tf.log(tf.reduce_sum(tf.exp(omega)))\n",
    "t2 = tf.reshape(x1_bar_lam,[])\n",
    "loss = t1-t2\n",
    "\n",
    "w_eb = tf.nn.softmax(omega)"
   ]
  },
  {
   "cell_type": "code",
   "execution_count": 20,
   "metadata": {},
   "outputs": [],
   "source": [
    "learning_rate = tf.placeholder(tf.float32)\n",
    "\n",
    "train_lam = tf.train.AdamOptimizer(learning_rate).minimize(loss)"
   ]
  },
  {
   "cell_type": "code",
   "execution_count": 21,
   "metadata": {},
   "outputs": [],
   "source": [
    "# Initialization\n",
    "\n",
    "initializer = tf.global_variables_initializer()\n",
    "sess.run(initializer)"
   ]
  },
  {
   "cell_type": "code",
   "execution_count": 22,
   "metadata": {},
   "outputs": [
    {
     "name": "stdout",
     "output_type": "stream",
     "text": [
      "[1, 5.988876857757568, 0.0778200626373291]\n",
      "[2, 5.736371221542359, 0.057366371154785156]\n",
      "[3, 5.623866720199585, 0.05208897590637207]\n",
      "[4, 5.566918067932129, 0.053862571716308594]\n",
      "[5, 5.528247056007385, 0.045320749282836914]\n",
      "[6, 5.496501359939575, 0.04637002944946289]\n",
      "[7, 5.46924479007721, 0.06269478797912598]\n",
      "[8, 5.446005597114563, 0.06023526191711426]\n",
      "[9, 5.426578330993652, 0.053647756576538086]\n",
      "[10, 5.41069878578186, 0.05533576011657715]\n"
     ]
    },
    {
     "data": {
      "image/png": "[encoded data removed]",
      "text/plain": [
       "<Figure size 432x288 with 1 Axes>"
      ]
     },
     "metadata": {
      "needs_background": "light"
     },
     "output_type": "display_data"
    }
   ],
   "source": [
    "# Training EB weights\n",
    "\n",
    "lr = 1e-3\n",
    "\n",
    "max_epoch = 10\n",
    "updates_per_epoch = 100\n",
    "\n",
    "epoch_record = np.zeros([max_epoch,])\n",
    "\n",
    "for epoch_id in range(max_epoch):\n",
    "    \n",
    "    loss_record = np.zeros([updates_per_epoch,])\n",
    "    \n",
    "    t0 = time()\n",
    "    \n",
    "    for step in range(updates_per_epoch):\n",
    "        \n",
    "        feed_dict = {learning_rate: lr}\n",
    "        \n",
    "        _, loss_val = sess.run([train_lam, loss], feed_dict)\n",
    "        \n",
    "        loss_record[step] = loss_val\n",
    "    \n",
    "    t1 = time()\n",
    "    \n",
    "    print([epoch_id+1,np.mean(loss_record),t1-t0])\n",
    "    epoch_record[epoch_id] = np.mean(loss_record)\n",
    "    \n",
    "_ = plt.plot(epoch_record)\n"
   ]
  },
  {
   "cell_type": "code",
   "execution_count": 23,
   "metadata": {},
   "outputs": [],
   "source": [
    "w_eb_val = sess.run(w_eb)"
   ]
  },
  {
   "cell_type": "code",
   "execution_count": 24,
   "metadata": {},
   "outputs": [],
   "source": [
    "Wx0 = w_eb_val\n",
    "Wx1 = np.ones([n1,])/n1"
   ]
  },
  {
   "cell_type": "markdown",
   "metadata": {},
   "source": [
    "#### EB-weights"
   ]
  },
  {
   "cell_type": "code",
   "execution_count": 25,
   "metadata": {},
   "outputs": [],
   "source": [
    "n = X.shape[0]\n",
    "Wx = np.zeros([n,])\n",
    "Wx[t0_ind] = Wx0\n",
    "Wx[t1_ind] = Wx1\n",
    "Wx = Wx/2*n"
   ]
  },
  {
   "cell_type": "code",
   "execution_count": null,
   "metadata": {},
   "outputs": [],
   "source": []
  },
  {
   "cell_type": "code",
   "execution_count": 26,
   "metadata": {},
   "outputs": [],
   "source": [
    "XT = np.concatenate([X,T[:,1].reshape([-1,1])],axis=1)"
   ]
  },
  {
   "cell_type": "code",
   "execution_count": 29,
   "metadata": {},
   "outputs": [
    {
     "data": {
      "text/plain": [
       "RandomForestRegressor(bootstrap=True, criterion='mse', max_depth=None,\n",
       "           max_features='auto', max_leaf_nodes=None, min_samples_leaf=1,\n",
       "           min_samples_split=2, min_weight_fraction_leaf=0.0,\n",
       "           n_estimators=50, n_jobs=1, oob_score=False, random_state=None,\n",
       "           verbose=0, warm_start=False)"
      ]
     },
     "execution_count": 29,
     "metadata": {},
     "output_type": "execute_result"
    }
   ],
   "source": [
    "n_trees = 50\n",
    "model_m = RandomForestRegressor(n_estimators=n_trees)\n",
    "model_m.fit(XT,Y.reshape([-1,]),Wx)"
   ]
  },
  {
   "cell_type": "code",
   "execution_count": 30,
   "metadata": {
    "code_folding": [
     0
    ]
   },
   "outputs": [],
   "source": [
    "def estimate_causal_effect(model,X):\n",
    "    \n",
    "    n = X.shape[0]\n",
    "    \n",
    "    t0 = np.zeros([n,1])\n",
    "    t1 = np.ones([n,1])\n",
    "    \n",
    "    Xt0 = np.concatenate([X,t0],axis=1)\n",
    "    Xt1 = np.concatenate([X,t1],axis=1)\n",
    "    \n",
    "    mu0_hat = model.predict(Xt0)\n",
    "    mu1_hat = model.predict(Xt1)\n",
    "    \n",
    "    tau_hat = mu1_hat - mu0_hat\n",
    "    \n",
    "    return tau_hat"
   ]
  },
  {
   "cell_type": "code",
   "execution_count": 31,
   "metadata": {},
   "outputs": [],
   "source": [
    "# np.zeros([2,1])\n",
    "\n",
    "tau_hat = estimate_causal_effect(model_m, X)"
   ]
  },
  {
   "cell_type": "code",
   "execution_count": 34,
   "metadata": {},
   "outputs": [
    {
     "name": "stdout",
     "output_type": "stream",
     "text": [
      "0.8783947819727507\n"
     ]
    }
   ],
   "source": [
    "pehe_mkl = eval_pehe(tau_hat, Tau)#*y_std\n",
    "\n",
    "print(pehe_mkl)"
   ]
  },
  {
   "cell_type": "code",
   "execution_count": 33,
   "metadata": {},
   "outputs": [
    {
     "data": {
      "image/png": "[encoded data removed]",
      "text/plain": [
       "<Figure size 432x288 with 1 Axes>"
      ]
     },
     "metadata": {
      "needs_background": "light"
     },
     "output_type": "display_data"
    }
   ],
   "source": [
    "_ = plt.plot(Tau,tau_hat,'s')"
   ]
  },
  {
   "cell_type": "code",
   "execution_count": null,
   "metadata": {},
   "outputs": [],
   "source": []
  }
 ],
 "metadata": {
  "kernelspec": {
   "display_name": "Python 3",
   "language": "python",
   "name": "python3"
  },
  "language_info": {
   "codemirror_mode": {
    "name": "ipython",
    "version": 3
   },
   "file_extension": ".py",
   "mimetype": "text/x-python",
   "name": "python",
   "nbconvert_exporter": "python",
   "pygments_lexer": "ipython3",
   "version": "3.6.9"
  }
 },
 "nbformat": 4,
 "nbformat_minor": 2
}
