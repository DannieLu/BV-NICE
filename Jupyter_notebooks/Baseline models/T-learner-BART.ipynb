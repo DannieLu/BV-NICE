{
 "cells": [
  {
   "cell_type": "markdown",
   "metadata": {},
   "source": [
    "$\n",
    "\\newcommand{\\ELBO}{\\text{ELBO}}\n",
    "\\newcommand{\\EE}{\\mathbb{E}}\n",
    "\\newcommand{\\bs}[1]{\\boldsymbol{#1}}\n",
    "\\newcommand{\\ud}{\\,\\text{d}}\n",
    "\\newcommand{\\CN}{\\mathcal{N}}\n",
    "\\newcommand{\\CB}{\\mathcal{B}}\n",
    "\\newcommand{\\aux}{\\text{aux}}\n",
    "\\newcommand{\\do}{do}\n",
    "\\newcommand{\\Xmat}{\\boldsymbol{X}}\n",
    "\\newcommand{\\zv}{\\bs{z}}\n",
    "\\newcommand{\\xv}{\\bs{x}}\n",
    "\\newcommand{\\Xv}{\\bs{X}}\n",
    "\\newcommand{\\Yv}{\\bs{Y}}\n",
    "\\newcommand{\\BD}{\\mathbb{D}}\n",
    "\\newcommand{\\KL}{\\text{KL}}\n",
    "$"
   ]
  },
  {
   "cell_type": "markdown",
   "metadata": {},
   "source": [
    "## T-learner BART baseline for IHDP\n",
    "* Please install bartpy first\n",
    "```\n",
    "pip3 install git+https://github.com/JakeColtman/bartpy.git@ReadOneTrees --upgrade\n",
    "```"
   ]
  },
  {
   "cell_type": "code",
   "execution_count": 1,
   "metadata": {},
   "outputs": [],
   "source": [
    "import os\n",
    "import sys\n",
    "\n",
    "from time import time\n",
    "\n",
    "import math\n",
    "\n",
    "import numpy as np\n",
    "\n",
    "import seaborn as sns\n",
    "\n",
    "import matplotlib.pyplot as plt\n",
    "%matplotlib inline"
   ]
  },
  {
   "cell_type": "code",
   "execution_count": 2,
   "metadata": {
    "code_folding": []
   },
   "outputs": [],
   "source": [
    "class flags:\n",
    "    \n",
    "    # dim = 2\n",
    "    \n",
    "    x_dim = 25\n",
    "    y_dim = 1\n",
    "    t_dim = 2\n",
    "    # M = 100\n",
    "    M = 30\n",
    "    \n",
    "    # optimization\n",
    "    learning_rate = 1e-3 # Base learning rate\n",
    "    lr_decay = 0.999995 # Learning rate decay, applied every step of the optimization\n",
    "    \n",
    "    batch_size = 128 # Batch size during training per GPU\n",
    "    hidden_size = 2\n",
    "    \n",
    "    \n",
    "FLAGS = flags()\n",
    "args = FLAGS\n"
   ]
  },
  {
   "cell_type": "code",
   "execution_count": 3,
   "metadata": {
    "code_folding": [
     0
    ]
   },
   "outputs": [],
   "source": [
    "def onehot(t,dim):\n",
    "    \n",
    "    m_samples = t.shape[0]\n",
    "    tt = np.zeros([m_samples,dim])\n",
    "    \n",
    "    for i in range(m_samples):\n",
    "        tt[i,np.int(t[i])] = 1\n",
    "        \n",
    "    return tt"
   ]
  },
  {
   "cell_type": "code",
   "execution_count": 4,
   "metadata": {},
   "outputs": [],
   "source": [
    "def eval_pehe(tau_hat,tau):\n",
    "    return np.sqrt(np.mean(np.square(tau-tau_hat)))"
   ]
  },
  {
   "cell_type": "code",
   "execution_count": 5,
   "metadata": {
    "code_folding": [
     0
    ]
   },
   "outputs": [],
   "source": [
    "def load_ihdp(trial_id=0,filepath='./data/',istrain=True):\n",
    "    \n",
    "    if istrain:\n",
    "        data_file = filepath+'ihdp_npci_1-1000.train.npz'\n",
    "    else:\n",
    "        data_file = filepath+'ihdp_npci_1-1000.test.npz'\n",
    "        \n",
    "    data = np.load(data_file)\n",
    "    \n",
    "    x = data['x'][:,:,trial_id]\n",
    "    y = data['yf'][:,trial_id]\n",
    "    t = data['t'][:,trial_id]\n",
    "    ycf = data['ycf'][:,trial_id]\n",
    "    mu0 = data['mu0'][:,trial_id]\n",
    "    mu1 = data['mu1'][:,trial_id]\n",
    "    \n",
    "    return x,y,t,ycf,mu0,mu1"
   ]
  },
  {
   "cell_type": "code",
   "execution_count": 6,
   "metadata": {},
   "outputs": [],
   "source": [
    "# Loading normalized IHDP example\n",
    "data = np.load('../ihdp_example.npy',allow_pickle=True).item()\n",
    "X = data['X'] # Confounder proxiess\n",
    "Y = data['Y'] # Factual outcomes\n",
    "T = data['T'] # Treatment\n",
    "Tau = data['Tau']  # Ground truth ITE\n",
    "\n",
    "n_samples = X.shape[0]"
   ]
  },
  {
   "cell_type": "code",
   "execution_count": 7,
   "metadata": {},
   "outputs": [],
   "source": [
    "t1_ind = T[:,1]==1   # find which column has the treatment == 1\n",
    "t0_ind = T[:,0]==1 \n",
    "\n",
    "n0 = np.sum(t0_ind)\n",
    "n1 = np.sum(t1_ind)\n",
    "\n",
    "X0 = X[t0_ind]\n",
    "X1 = X[t1_ind]\n",
    "\n",
    "Y0 = Y[t0_ind]\n",
    "Y1 = Y[t1_ind]"
   ]
  },
  {
   "cell_type": "markdown",
   "metadata": {},
   "source": [
    "### Training"
   ]
  },
  {
   "cell_type": "code",
   "execution_count": 9,
   "metadata": {
    "code_folding": [
     0
    ]
   },
   "outputs": [],
   "source": [
    "def show_results():\n",
    "    \n",
    "    return ;"
   ]
  },
  {
   "cell_type": "code",
   "execution_count": 10,
   "metadata": {},
   "outputs": [],
   "source": [
    "from bartpy.sklearnmodel import SklearnModel"
   ]
  },
  {
   "cell_type": "code",
   "execution_count": 11,
   "metadata": {},
   "outputs": [],
   "source": [
    "Y0 = Y0.reshape([-1,])\n",
    "Y1 = Y1.reshape([-1,])"
   ]
  },
  {
   "cell_type": "code",
   "execution_count": 16,
   "metadata": {
    "scrolled": false
   },
   "outputs": [
    {
     "data": {
      "text/plain": [
       "SklearnModel(alpha=0.95, beta=2.0, initializer=None, n_burn=200, n_chains=4,\n",
       "             n_jobs=-1, n_samples=200, n_trees=10, sigma_a=0.001, sigma_b=0.001,\n",
       "             store_acceptance_trace=False, store_in_sample_predictions=False,\n",
       "             thin=0.1,\n",
       "             tree_sampler=<bartpy.samplers.unconstrainedtree.treemutation.UnconstrainedTreeMutationSampler object at 0x7f04d6bde6a0>)"
      ]
     },
     "execution_count": 16,
     "metadata": {},
     "output_type": "execute_result"
    }
   ],
   "source": [
    "n_trees = 10\n",
    "\n",
    "model0 = SklearnModel(n_trees=n_trees) # Use default parameters\n",
    "model0.fit(X0, Y0) # Fit the model\n",
    "model1 = SklearnModel(n_trees=n_trees) # Use default parameters\n",
    "model1.fit(X1, Y1) # Fit the model"
   ]
  },
  {
   "cell_type": "markdown",
   "metadata": {},
   "source": [
    "### Evaluation"
   ]
  },
  {
   "cell_type": "code",
   "execution_count": 17,
   "metadata": {},
   "outputs": [
    {
     "name": "stdout",
     "output_type": "stream",
     "text": [
      "0.5037417739801686\n"
     ]
    }
   ],
   "source": [
    "tau_hat = model1.predict(X) - model0.predict(X)\n",
    "# tau_hat_val = model1.predict(X_val) - model0.predict(X_val)\n",
    "# tau_hat_test = model1.predict(X_test) - model0.predict(X_test)\n",
    "\n",
    "pehe_ls = eval_pehe(tau_hat, Tau)\n",
    "\n",
    "print(pehe_ls)"
   ]
  },
  {
   "cell_type": "code",
   "execution_count": null,
   "metadata": {},
   "outputs": [],
   "source": [
    "_ = plt.hist(tau_hat,bins=20,range=[-1,5])\n",
    "_ = plt.hist(Tau,bins=20,range=[-1,5])"
   ]
  }
 ],
 "metadata": {
  "kernelspec": {
   "display_name": "Python 3",
   "language": "python",
   "name": "python3"
  },
  "language_info": {
   "codemirror_mode": {
    "name": "ipython",
    "version": 3
   },
   "file_extension": ".py",
   "mimetype": "text/x-python",
   "name": "python",
   "nbconvert_exporter": "python",
   "pygments_lexer": "ipython3",
   "version": "3.6.9"
  }
 },
 "nbformat": 4,
 "nbformat_minor": 2
}
