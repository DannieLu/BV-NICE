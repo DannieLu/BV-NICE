{
 "cells": [
  {
   "cell_type": "markdown",
   "metadata": {},
   "source": [
    "## $R$-learner baseline for IHDP\n",
    "* Propensity score model based on random forest"
   ]
  },
  {
   "cell_type": "code",
   "execution_count": 1,
   "metadata": {},
   "outputs": [],
   "source": [
    "import os\n",
    "import sys\n",
    "\n",
    "from time import time\n",
    "\n",
    "import numpy as np\n",
    "import tensorflow as tf\n",
    "\n",
    "import pandas as pd\n",
    "import math\n",
    "\n",
    "import seaborn as sns\n",
    "\n",
    "import matplotlib.pyplot as plt\n",
    "%matplotlib inline\n",
    "\n",
    "config = tf.ConfigProto()\n",
    "config.gpu_options.allow_growth = True\n",
    "config.allow_soft_placement=True\n",
    "sess = tf.Session(config=config)"
   ]
  },
  {
   "cell_type": "code",
   "execution_count": 2,
   "metadata": {
    "code_folding": []
   },
   "outputs": [],
   "source": [
    "class flags:\n",
    "    \n",
    "    x_dim = 25\n",
    "    y_dim = 1\n",
    "    t_dim = 2\n",
    "    # M = 100\n",
    "    M = 30\n",
    "    \n",
    "    # optimization\n",
    "    learning_rate = 1e-3 # Base learning rate\n",
    "    lr_decay = 0.999995 # Learning rate decay, applied every step of the optimization\n",
    "    \n",
    "    batch_size = 128 # Batch size during training per GPU\n",
    "    hidden_size = 2\n",
    "    \n",
    "    \n",
    "FLAGS = flags()\n",
    "args = FLAGS\n",
    "\n",
    "DTYPE = tf.float32"
   ]
  },
  {
   "cell_type": "code",
   "execution_count": 3,
   "metadata": {},
   "outputs": [],
   "source": [
    "NORM = True\n",
    "VAL = True\n",
    "\n",
    "ihdp_id = 0"
   ]
  },
  {
   "cell_type": "code",
   "execution_count": 4,
   "metadata": {
    "code_folding": [
     0,
     3,
     12,
     40
    ]
   },
   "outputs": [],
   "source": [
    "def int_shape(x):\n",
    "    return list(map(int, x.get_shape()))\n",
    "\n",
    "def print_shape(x,varname='variable'):\n",
    "    if x is None:\n",
    "        print('%s size: None' % (varname))\n",
    "        return\n",
    "    x_shape = x.shape.as_list()\n",
    "    # print('%s size: [%d,%d,%d]' % (varname,x_shape[1],x_shape[2],x_shape[3]))\n",
    "    print(varname,end=': ')\n",
    "    print(x_shape)\n",
    "\n",
    "def tf_eval(tf_tensor,n_samples,feed_dict=None):\n",
    "    \n",
    "    MLOOP = np.int(np.ceil(n_samples/FLAGS.batch_size))\n",
    "    \n",
    "    dd = tf_tensor.shape.as_list()[1:]\n",
    "    dd.insert(0,n_samples)\n",
    "    \n",
    "    x = np.zeros(dd)\n",
    "    \n",
    "    for mloop in range(MLOOP):\n",
    "        \n",
    "        st = mloop*FLAGS.batch_size\n",
    "        ed = min((mloop+1)*FLAGS.batch_size, n_samples)\n",
    "        \n",
    "        if feed_dict is not None:\n",
    "            feed_dict_i = dict()\n",
    "            for key in feed_dict.keys():\n",
    "                feed_dict_i[key] = np.random.randn(*int_shape(key))\n",
    "                feed_dict_i[key][:ed-st] = feed_dict[key][st:ed]\n",
    "            y = sess.run(tf_tensor,feed_dict=feed_dict_i)\n",
    "        else:\n",
    "            y = sess.run(tf_tensor)\n",
    "        \n",
    "        # print([st,ed])\n",
    "        x[st:ed] = y[:ed-st]\n",
    "    \n",
    "    return x\n",
    "\n",
    "def tf_eval_list(tf_tensor_list,n_samples,feed_dict=None):\n",
    "    \n",
    "    if isinstance(tf_tensor_list, list)==False:\n",
    "        print('Input not a list')\n",
    "        return None\n",
    "    \n",
    "    MLOOP = np.int(np.ceil(n_samples/FLAGS.batch_size))\n",
    "    \n",
    "    res = dict()\n",
    "\n",
    "    for key in tf_tensor_list:\n",
    "        dd = key.shape.as_list()[1:]\n",
    "        dd.insert(0,n_samples)\n",
    "        res[key] = np.zeros(dd)\n",
    "    \n",
    "    for mloop in range(MLOOP):\n",
    "        \n",
    "        st = mloop*FLAGS.batch_size\n",
    "        ed = min((mloop+1)*FLAGS.batch_size,n_samples)\n",
    "        \n",
    "        if feed_dict is not None:\n",
    "            feed_dict_i = dict()\n",
    "            for key in feed_dict.keys():\n",
    "                feed_dict_i[key] = np.random.randn(*int_shape(key))\n",
    "                feed_dict_i[key][:ed-st] = feed_dict[key][st:ed]\n",
    "            # print(feed_dict_i)\n",
    "            y = sess.run(tf_tensor_list,feed_dict=feed_dict_i)\n",
    "        else:\n",
    "            y = sess.run(tf_tensor_list)\n",
    "        \n",
    "        for i in range(len(tf_tensor_list)):\n",
    "            res[tf_tensor_list[i]][st:ed] = y[i][:ed-st]\n",
    "    \n",
    "    return res"
   ]
  },
  {
   "cell_type": "code",
   "execution_count": null,
   "metadata": {},
   "outputs": [],
   "source": []
  },
  {
   "cell_type": "code",
   "execution_count": 5,
   "metadata": {
    "code_folding": []
   },
   "outputs": [],
   "source": [
    "def simple_mlp(x,out_dim,name):\n",
    "    \n",
    "    hidden_units = 64   # size of hidden units in a layer\n",
    "    \n",
    "    input_tensor = x\n",
    "    \n",
    "    with tf.variable_scope('%s' % name,reuse=tf.AUTO_REUSE):\n",
    "        h1 = tf.layers.dense(input_tensor,hidden_units,activation=tf.nn.relu)\n",
    "        h2 = tf.layers.dense(h1,hidden_units,activation=tf.nn.relu)\n",
    "        o = tf.layers.dense(h2,out_dim,activation=None)\n",
    "        \n",
    "    return o;\n",
    "\n",
    "def linear_mdl(x,out_dim,name):\n",
    "    \n",
    "    with tf.variable_scope('%s' % name,reuse=tf.AUTO_REUSE):\n",
    "        o = tf.layers.dense(x,out_dim,activation=None)\n",
    "        \n",
    "    return o;"
   ]
  },
  {
   "cell_type": "code",
   "execution_count": 6,
   "metadata": {},
   "outputs": [],
   "source": [
    "def eval_pehe(tau_hat,tau):\n",
    "    return np.sqrt(np.mean(np.square(tau-tau_hat)))"
   ]
  },
  {
   "cell_type": "code",
   "execution_count": null,
   "metadata": {},
   "outputs": [],
   "source": []
  },
  {
   "cell_type": "code",
   "execution_count": 7,
   "metadata": {
    "code_folding": []
   },
   "outputs": [],
   "source": [
    "def onehot(t,dim):\n",
    "    \n",
    "    m_samples = t.shape[0]\n",
    "    tt = np.zeros([m_samples,dim])\n",
    "    \n",
    "    for i in range(m_samples):\n",
    "        tt[i,np.int(t[i])] = 1\n",
    "        \n",
    "    return tt"
   ]
  },
  {
   "cell_type": "code",
   "execution_count": 8,
   "metadata": {
    "code_folding": [
     0
    ]
   },
   "outputs": [],
   "source": [
    "def load_ihdp(trial_id=0,filepath='./data/',istrain=True):\n",
    "    \n",
    "    if istrain:\n",
    "        data_file = filepath+'ihdp_npci_1-1000.train.npz'\n",
    "    else:\n",
    "        data_file = filepath+'ihdp_npci_1-1000.test.npz'\n",
    "        \n",
    "    data = np.load(data_file)\n",
    "    \n",
    "    x = data['x'][:,:,trial_id]\n",
    "    y = data['yf'][:,trial_id]\n",
    "    t = data['t'][:,trial_id]\n",
    "    ycf = data['ycf'][:,trial_id]\n",
    "    mu0 = data['mu0'][:,trial_id]\n",
    "    mu1 = data['mu1'][:,trial_id]\n",
    "    \n",
    "    return x,y,t,ycf,mu0,mu1"
   ]
  },
  {
   "cell_type": "code",
   "execution_count": 9,
   "metadata": {},
   "outputs": [],
   "source": [
    "X,Y,T,Ycf,Mu0,Mu1 = load_ihdp(ihdp_id)\n",
    "Tau = Mu1 - Mu0\n",
    "\n",
    "Y = np.reshape(Y,[-1,1])\n",
    "T = onehot(T,2)\n",
    "\n",
    "X_m = np.mean(X,axis=0,keepdims=True)\n",
    "X_std = np.std(X,axis=0,keepdims=True)\n",
    "X = (X-X_m)/X_std\n",
    "\n",
    "n_samples = X.shape[0]\n",
    "\n",
    "y_std = 1.\n",
    "\n",
    "if NORM:\n",
    "    y_m = np.mean(Y)\n",
    "    y_std = np.std(Y)\n",
    "\n",
    "    Y = (Y-y_m)/y_std\n",
    "\n",
    "    Tau = Tau/y_std"
   ]
  },
  {
   "cell_type": "code",
   "execution_count": 10,
   "metadata": {},
   "outputs": [],
   "source": [
    "if VAL:\n",
    "\n",
    "    prob_train = 0.7\n",
    "\n",
    "    n_train_samples = int(np.ceil(prob_train*n_samples))\n",
    "\n",
    "    shuff_idx = np.array(range(n_samples))\n",
    "\n",
    "    train_idx = shuff_idx[:n_train_samples]\n",
    "    val_idx = shuff_idx[n_train_samples:]\n",
    "\n",
    "    X_val = X[val_idx]\n",
    "    Y_val = Y[val_idx]\n",
    "    T_val = T[val_idx]\n",
    "\n",
    "    X = X[train_idx]\n",
    "    Y = Y[train_idx]\n",
    "    T = T[train_idx]\n",
    "\n",
    "    n_samples = n_train_samples\n",
    "\n",
    "    Tau_val = Tau[val_idx]\n",
    "    Tau = Tau[train_idx]"
   ]
  },
  {
   "cell_type": "code",
   "execution_count": 11,
   "metadata": {},
   "outputs": [],
   "source": [
    "t1_ind = T[:,1]==1   # find which column has the treatment == 1\n",
    "t0_ind = T[:,0]==1 \n",
    "\n",
    "n0 = np.sum(t0_ind)\n",
    "n1 = np.sum(t1_ind)\n",
    "\n",
    "X0 = X[t0_ind]\n",
    "X1 = X[t1_ind]\n",
    "\n",
    "Y0 = Y[t0_ind]\n",
    "Y1 = Y[t1_ind]"
   ]
  },
  {
   "cell_type": "code",
   "execution_count": 13,
   "metadata": {
    "code_folding": [
     0
    ]
   },
   "outputs": [],
   "source": [
    "def mu_learner(x,t):\n",
    "    \n",
    "    input_tensor = tf.concat([x,tf.cast(t,tf.float32)],axis=-1) \n",
    "    \n",
    "    mu = simple_mlp(input_tensor,FLAGS.y_dim,'mu')\n",
    "    \n",
    "    return mu"
   ]
  },
  {
   "cell_type": "code",
   "execution_count": null,
   "metadata": {},
   "outputs": [],
   "source": []
  },
  {
   "cell_type": "markdown",
   "metadata": {},
   "source": [
    "### Model specification"
   ]
  },
  {
   "cell_type": "code",
   "execution_count": 14,
   "metadata": {},
   "outputs": [
    {
     "name": "stdout",
     "output_type": "stream",
     "text": [
      "WARNING:tensorflow:From <ipython-input-5-59d9cc286c2a>:17: dense (from tensorflow.python.layers.core) is deprecated and will be removed in a future version.\n",
      "Instructions for updating:\n",
      "Use keras.layers.Dense instead.\n",
      "WARNING:tensorflow:From /usr/local/lib/python3.6/dist-packages/tensorflow_core/python/layers/core.py:187: Layer.apply (from tensorflow.python.keras.engine.base_layer) is deprecated and will be removed in a future version.\n",
      "Instructions for updating:\n",
      "Please use `layer.__call__` method instead.\n"
     ]
    }
   ],
   "source": [
    "input_x = tf.placeholder(tf.float32, shape=[FLAGS.batch_size, FLAGS.x_dim])\n",
    "input_t = tf.placeholder(tf.int32, shape=[FLAGS.batch_size, FLAGS.t_dim])\n",
    "input_y = tf.placeholder(tf.float32, shape=[FLAGS.batch_size, FLAGS.y_dim])\n",
    "\n",
    "m_x = tf.placeholder(tf.float32, shape=[FLAGS.batch_size, FLAGS.y_dim])\n",
    "e_x = tf.placeholder(tf.float32, shape=[FLAGS.batch_size, 1])\n",
    "\n",
    "tau_x = linear_mdl(input_x, 1, 'tau') # causal effect\n",
    "\n",
    "input_t_bin = tf.reshape(tf.cast(input_t[:,1],dtype=tf.float32),[-1,1])\n",
    "r_res = (input_y - m_x) - (tf.cast(input_t_bin, dtype=tf.float32) - e_x) * tau_x\n",
    "\n",
    "y_hat = m_x + (tf.cast(input_t_bin, dtype=tf.float32) - e_x) * tau_x\n",
    "\n",
    "loss_r = tf.reduce_mean(tf.square(r_res))"
   ]
  },
  {
   "cell_type": "code",
   "execution_count": null,
   "metadata": {},
   "outputs": [],
   "source": []
  },
  {
   "cell_type": "code",
   "execution_count": null,
   "metadata": {},
   "outputs": [],
   "source": [
    "tau_vars = [v for v in tf.get_collection(\n",
    "    tf.GraphKeys.TRAINABLE_VARIABLES) if v.name.startswith('tau')]\n",
    "\n",
    "\n",
    "learning_rate = tf.placeholder(tf.float32)\n",
    "\n",
    "train_tau = tf.train.AdamOptimizer(learning_rate).minimize(loss_r, var_list=tau_vars)"
   ]
  },
  {
   "cell_type": "markdown",
   "metadata": {},
   "source": [
    "### Training"
   ]
  },
  {
   "cell_type": "code",
   "execution_count": null,
   "metadata": {
    "code_folding": [
     0,
     13,
     26,
     42
    ]
   },
   "outputs": [],
   "source": [
    "def estimate_causal_effect(xx, e_x_, m_x_, n_runs=1):\n",
    "\n",
    "    m_samples = xx.shape[0]\n",
    "\n",
    "    t0 = np.zeros([m_samples,FLAGS.t_dim]); t0[:,0] = 1;\n",
    "    t1 = np.zeros([m_samples,FLAGS.t_dim]); t1[:,1] = 1;\n",
    "    mu0_hat = estimate_outcome(xx, t0, e_x_, m_x_, n_runs)\n",
    "    mu1_hat = estimate_outcome(xx, t1, e_x_, m_x_, n_runs)\n",
    "\n",
    "    tau_hat = mu1_hat - mu0_hat\n",
    "\n",
    "    return tau_hat\n",
    "\n",
    "def estimate_outcome(xx, tt, e_x_, m_x_, n_runs=1):\n",
    "    m_samples = xx.shape[0]\n",
    "\n",
    "    y_t_hat = 0\n",
    "\n",
    "    for i in range(n_runs):\n",
    "\n",
    "        y_t_hat = tf_eval(y_hat,m_samples,{input_x: xx, input_t: tt, e_x: e_x_, m_x: m_x_})\n",
    "\n",
    "    y_t_hat /= n_runs\n",
    "\n",
    "    return y_t_hat\n",
    "\n",
    "def check_results(x_x,t_x,y_x,e_x_,m_x_,tau_x,msg=''):\n",
    "    \n",
    "    tau_hat = estimate_causal_effect(x_x,e_x_,m_x_).reshape([-1,])    \n",
    "    pehe_mkl = eval_pehe(tau_hat, tau_x)*y_std\n",
    "    corr_ = np.corrcoef(tau_hat.reshape([-1,]),tau_x.reshape([-1,]))[0,1]\n",
    "    err_ = np.mean(tau_hat)-4  \n",
    "    \n",
    "    Y_mdl = estimate_outcome(x_x,t_x,e_x_,m_x_)\n",
    "    rmse_ = eval_y_rmse(y_x, Y_mdl)\n",
    "\n",
    "    \n",
    "    print('%sPEHE=%.2f, CORR=%.2f, ERR=%.2f, RMSE=%.2f' % (msg, pehe_mkl, corr_, err_, rmse_) )\n",
    "    \n",
    "    return [pehe_mkl, corr_, err_, rmse_]\n",
    "\n",
    "\n",
    "def eval_y_rmse(yy,yy_mdl):\n",
    "    \n",
    "    yy_mdl_mean = np.mean(yy_mdl,axis=1).reshape([-1,1])\n",
    "    \n",
    "    rmse = np.sqrt(np.mean(np.square(yy-yy_mdl_mean)))\n",
    "    \n",
    "    return rmse\n"
   ]
  },
  {
   "cell_type": "code",
   "execution_count": null,
   "metadata": {},
   "outputs": [],
   "source": [
    "# res1 = check_results(X,T,Y,Ex,Mx,Tau,msg='training-sample:\\t')"
   ]
  },
  {
   "cell_type": "code",
   "execution_count": null,
   "metadata": {},
   "outputs": [],
   "source": [
    "from sklearn.ensemble import RandomForestClassifier,RandomForestRegressor"
   ]
  },
  {
   "cell_type": "code",
   "execution_count": null,
   "metadata": {},
   "outputs": [],
   "source": [
    "n_trees = 50\n",
    "model_e = RandomForestClassifier(n_estimators=n_trees)\n",
    "model_e.fit(X,T[:,1])\n",
    "\n",
    "model_m = RandomForestRegressor(n_estimators=n_trees)\n",
    "model_m.fit(X,Y.reshape([-1,]))\n",
    "\n",
    "Ex = model_e.predict_proba(X).reshape([-1,1])\n",
    "Mx = model_m.predict(X).reshape([-1,1])\n",
    "\n",
    "Ex_val = model_e.predict_proba(X_val).reshape([-1,1])\n",
    "Mx_val = model_m.predict(X_val).reshape([-1,1])"
   ]
  },
  {
   "cell_type": "code",
   "execution_count": null,
   "metadata": {},
   "outputs": [],
   "source": [
    "# Initialization\n",
    "\n",
    "initializer = tf.global_variables_initializer()\n",
    "sess.run(initializer)"
   ]
  },
  {
   "cell_type": "code",
   "execution_count": null,
   "metadata": {},
   "outputs": [],
   "source": [
    "# Training\n",
    "\n",
    "lr = 1e-3\n",
    "\n",
    "max_epoch = 10\n",
    "updates_per_epoch = 100\n",
    "\n",
    "\n",
    "results = np.zeros([max_epoch, 3, 4 ])\n",
    "epoch_record = np.zeros([max_epoch,])\n",
    "\n",
    "for epoch_id in range(max_epoch):\n",
    "    \n",
    "    loss_record = np.zeros([updates_per_epoch,])\n",
    "    \n",
    "    t0 = time()\n",
    "    \n",
    "    for step in range(updates_per_epoch):\n",
    "\n",
    "        # n_samples\n",
    "        ind = np.random.choice(n_samples,FLAGS.batch_size)\n",
    "        # ind\n",
    "        feed_dict = {learning_rate:lr}\n",
    "        feed_dict[input_x] = X[ind]\n",
    "        feed_dict[input_y] = Y[ind]\n",
    "        feed_dict[input_t] = T[ind]\n",
    "        feed_dict[m_x] = Mx[ind]\n",
    "        feed_dict[e_x] = Ex[ind]\n",
    "        \n",
    "        _,loss_tau_val = sess.run([train_tau, loss_r], feed_dict)\n",
    "        loss_record[step] = loss_tau_val\n",
    "    \n",
    "    \n",
    "    t1 = time()\n",
    "    \n",
    "    print([epoch_id+1,np.mean(loss_record),t1-t0])\n",
    "    epoch_record[epoch_id] = np.mean(loss_record)\n",
    "    \n",
    "    res1 = check_results(X,T,Y,Ex,Mx,Tau,msg='training-sample:\\t')\n",
    "\n",
    "    # Validation\n",
    "    res2 = check_results(X_val,T_val,Y_val,Ex_val,Mx_val,Tau_val,msg='validation-sample:\\t')\n",
    "\n",
    "    results[epoch_id,0,:] = res1\n",
    "    results[epoch_id,1,:] = res2\n",
    "    # results[epoch_id,2,:] = res3\n",
    "    \n",
    "_ = plt.plot(epoch_record)"
   ]
  },
  {
   "cell_type": "code",
   "execution_count": null,
   "metadata": {},
   "outputs": [],
   "source": [
    "tau_hat = estimate_causal_effect(X, Ex, Mx, n_runs=1)\n",
    "\n",
    "_ = plt.plot(Tau,tau_hat,'s')"
   ]
  },
  {
   "cell_type": "code",
   "execution_count": null,
   "metadata": {},
   "outputs": [],
   "source": []
  }
 ],
 "metadata": {
  "kernelspec": {
   "display_name": "Python 3",
   "language": "python",
   "name": "python3"
  },
  "language_info": {
   "codemirror_mode": {
    "name": "ipython",
    "version": 3
   },
   "file_extension": ".py",
   "mimetype": "text/x-python",
   "name": "python",
   "nbconvert_exporter": "python",
   "pygments_lexer": "ipython3",
   "version": "3.6.9"
  }
 },
 "nbformat": 4,
 "nbformat_minor": 2
}
