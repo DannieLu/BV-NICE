{
 "cells": [
  {
   "cell_type": "markdown",
   "metadata": {},
   "source": [
    "#### BV-NICE Demo code"
   ]
  },
  {
   "cell_type": "code",
   "execution_count": 1,
   "metadata": {},
   "outputs": [],
   "source": [
    "import os\n",
    "import sys\n",
    "from time import time\n",
    "\n",
    "import numpy as np\n",
    "import tensorflow as tf\n",
    "import pandas as pd\n",
    "import math\n",
    "\n",
    "import matplotlib.pyplot as plt\n",
    "%matplotlib inline\n",
    "\n",
    "config = tf.ConfigProto()\n",
    "config.gpu_options.allow_growth = True\n",
    "config.allow_soft_placement=True\n",
    "sess = tf.Session(config=config)"
   ]
  },
  {
   "cell_type": "code",
   "execution_count": 2,
   "metadata": {},
   "outputs": [],
   "source": [
    "# NORM = True  # \n",
    "\n",
    "# VAL = True  # \n",
    "\n",
    "lam = 1 # imbalance parameter (i.e., regularzation for the KL-matching)\n",
    "# lam = 0.\n",
    "\n",
    "zeta = 1. # match aggregated posterior dist to the prior distribution\n",
    "# zeta = 0\n",
    "\n",
    "ihdp_id = 0\n",
    "\n",
    "eta = .1  # noise level\n",
    "# eta = 0.\n",
    "\n",
    "alph = 0. # representation regularization\n",
    "# alph = 1e-5   \n",
    "\n",
    "kappa = .01  # propensity score weight\n",
    "# kappa = 0.\n",
    "\n",
    "RDECOMP = True # to use Robinson decomposition\n",
    "# RDECOMP = False"
   ]
  },
  {
   "cell_type": "code",
   "execution_count": 3,
   "metadata": {
    "code_folding": []
   },
   "outputs": [],
   "source": [
    "class flags:\n",
    "    \n",
    "    x_dim = 25\n",
    "    y_dim = 1\n",
    "    t_dim = 2\n",
    "    \n",
    "    hidden_units = 64\n",
    "    \n",
    "    hidden_size = 2\n",
    "    \n",
    "    xi_dim = 10\n",
    "    \n",
    "    batch_size = 128 # Batch size during training \n",
    "    \n",
    "    \n",
    "FLAGS = flags()\n",
    "args = FLAGS\n",
    "\n",
    "DTYPE = tf.float32"
   ]
  },
  {
   "cell_type": "code",
   "execution_count": 4,
   "metadata": {
    "code_folding": [
     0
    ]
   },
   "outputs": [],
   "source": [
    "def onehot(t,dim):\n",
    "    \n",
    "    m_samples = t.shape[0]\n",
    "    tt = np.zeros([m_samples,dim])\n",
    "    \n",
    "    for i in range(m_samples):\n",
    "        tt[i,np.int(t[i])] = 1\n",
    "        \n",
    "    return tt"
   ]
  },
  {
   "cell_type": "code",
   "execution_count": null,
   "metadata": {
    "code_folding": [
     6,
     25
    ]
   },
   "outputs": [],
   "source": [
    "initializer = tf.contrib.layers.xavier_initializer()\n",
    "# initializer = None\n",
    "\n",
    "nonlinearity=tf.nn.relu\n",
    "\n",
    "def critic(z,x,name):\n",
    "    \n",
    "    hidden_units = FLAGS.hidden_units    # size of hidden units in a layer\n",
    "    \n",
    "    if x is None:\n",
    "        input_tensor = z;\n",
    "    else:\n",
    "        input_tensor = tf.concat([x,z],axis=-1)\n",
    "    \n",
    "    with tf.variable_scope('critic-%s' % name,reuse=tf.AUTO_REUSE):\n",
    "        h1 = tf.layers.dense(input_tensor,hidden_units,kernel_initializer=initializer,activation=nonlinearity)\n",
    "        h2 = tf.layers.dense(h1,hidden_units,kernel_initializer=initializer,activation=nonlinearity)\n",
    "        # h2 = tf.layers.dense(h2,hidden_units,kernel_initializer=initializer,activation=nonlinearity)\n",
    "        # o = tf.layers.dense(h2,1,activation=None)\n",
    "        o = tf.layers.dense(h2,1,kernel_initializer=initializer,activation=tf.nn.tanh)\n",
    "        o *= 5\n",
    "        \n",
    "    return o;\n",
    "\n",
    "def simple_mlp(x,out_dim,name):\n",
    "    \n",
    "    hidden_units = FLAGS.hidden_units   # size of hidden units in a layer\n",
    "    \n",
    "    input_tensor = x\n",
    "    \n",
    "    with tf.variable_scope('%s' % name,reuse=tf.AUTO_REUSE):\n",
    "        h1 = tf.layers.dense(input_tensor,hidden_units,kernel_initializer=initializer,activation=nonlinearity)\n",
    "        h2 = tf.layers.dense(h1,hidden_units,kernel_initializer=initializer,activation=nonlinearity)\n",
    "        o = tf.layers.dense(h2,out_dim,kernel_initializer=initializer,activation=None)\n",
    "        \n",
    "    return o;"
   ]
  },
  {
   "cell_type": "code",
   "execution_count": 6,
   "metadata": {
    "code_folding": [
     0
    ]
   },
   "outputs": [],
   "source": [
    "# def encoder(input_x,input_y,input_t,name='encoder'):\n",
    "#     '''\n",
    "#     approximate posterior of z given x,y,t\n",
    "#     p(z|x,y,t)\n",
    "#     return mean and var of z\n",
    "    \n",
    "#     '''\n",
    "    \n",
    "#     if (input_y is not None) and (input_t is not None):\n",
    "#         input_tensor = tf.concat([input_x,input_y,input_t],axis=-1)  # cbind \n",
    "#     else:\n",
    "#         input_tensor = input_x\n",
    "    \n",
    "#     hidden_units = FLAGS.hidden_units   # size of hidden units in a layer\n",
    "    \n",
    "#     with tf.variable_scope(name,reuse=tf.AUTO_REUSE):\n",
    "#         h1 = tf.layers.dense(input_tensor,hidden_units,kernel_initializer=initializer,activation=nonlinearity)\n",
    "#         h2 = tf.layers.dense(h1,hidden_units,kernel_initializer=initializer,activation=nonlinearity)\n",
    "#         o = tf.layers.dense(h2,FLAGS.hidden_size,kernel_initializer=initializer,activation=None)\n",
    "#         # o = tf.layers.dense(h2,2*latent_size,activation=None,use_bias=False)\n",
    "    \n",
    "#     return o"
   ]
  },
  {
   "cell_type": "code",
   "execution_count": 7,
   "metadata": {
    "code_folding": [
     0,
     25
    ]
   },
   "outputs": [],
   "source": [
    "def estimate_causal_effect(xx, n_runs=1):\n",
    "    \n",
    "    m_samples = xx.shape[0]\n",
    "    \n",
    "    t0 = np.zeros([m_samples,FLAGS.t_dim]); t0[:,0] = 1;\n",
    "    t1 = np.zeros([m_samples,FLAGS.t_dim]); t1[:,1] = 1;\n",
    "    mu0_hat = estimate_outcome(xx, t0, n_runs)\n",
    "    mu1_hat = estimate_outcome(xx, t1, n_runs)\n",
    "    \n",
    "    tau_hat = mu1_hat - mu0_hat\n",
    "    \n",
    "#     tau_hat = 0\n",
    "#     for i in range(n_runs):\n",
    "#         t0 = np.zeros([m_samples,FLAGS.t_dim]); t0[:,0] = 1;\n",
    "#         t1 = np.zeros([m_samples,FLAGS.t_dim]); t1[:,1] = 1;\n",
    "\n",
    "#         mu0_hat = tf_eval(y_hat,m_samples,{input_x: xx, input_t: t0})\n",
    "#         mu1_hat = tf_eval(y_hat,m_samples,{input_x: xx, input_t: t1})\n",
    "\n",
    "#         tau_hat += mu1_hat - mu0_hat\n",
    "    \n",
    "#     tau_hat /= n_runs\n",
    "    \n",
    "    return tau_hat\n",
    "\n",
    "def estimate_outcome(xx, tt, n_runs=1):\n",
    "    m_samples = xx.shape[0]\n",
    "    \n",
    "    y_t_hat = 0\n",
    "    \n",
    "    for i in range(n_runs):\n",
    "\n",
    "        y_t_hat = tf_eval(y_hat,m_samples,{input_x: xx, input_t: tt})\n",
    "    \n",
    "    y_t_hat /= n_runs\n",
    "    \n",
    "    return y_t_hat"
   ]
  },
  {
   "cell_type": "code",
   "execution_count": null,
   "metadata": {},
   "outputs": [],
   "source": []
  },
  {
   "cell_type": "code",
   "execution_count": 8,
   "metadata": {
    "code_folding": [
     0,
     3,
     12,
     40
    ]
   },
   "outputs": [],
   "source": [
    "def int_shape(x):\n",
    "    return list(map(int, x.get_shape()))\n",
    "\n",
    "def print_shape(x,varname='variable'):\n",
    "    if x is None:\n",
    "        print('%s size: None' % (varname))\n",
    "        return\n",
    "    x_shape = x.shape.as_list()\n",
    "    # print('%s size: [%d,%d,%d]' % (varname,x_shape[1],x_shape[2],x_shape[3]))\n",
    "    print(varname,end=': ')\n",
    "    print(x_shape)\n",
    "\n",
    "def tf_eval(tf_tensor,n_samples,feed_dict=None):\n",
    "    \n",
    "    MLOOP = np.int(np.ceil(n_samples/FLAGS.batch_size))\n",
    "    \n",
    "    dd = tf_tensor.shape.as_list()[1:]\n",
    "    dd.insert(0,n_samples)\n",
    "    \n",
    "    x = np.zeros(dd)\n",
    "    \n",
    "    for mloop in range(MLOOP):\n",
    "        \n",
    "        st = mloop*FLAGS.batch_size\n",
    "        ed = min((mloop+1)*FLAGS.batch_size, n_samples)\n",
    "        \n",
    "        if feed_dict is not None:\n",
    "            feed_dict_i = dict()\n",
    "            for key in feed_dict.keys():\n",
    "                feed_dict_i[key] = np.random.randn(*int_shape(key))\n",
    "                feed_dict_i[key][:ed-st] = feed_dict[key][st:ed]\n",
    "            y = sess.run(tf_tensor,feed_dict=feed_dict_i)\n",
    "        else:\n",
    "            y = sess.run(tf_tensor)\n",
    "        \n",
    "        # print([st,ed])\n",
    "        x[st:ed] = y[:ed-st]\n",
    "    \n",
    "    return x\n",
    "\n",
    "def tf_eval_list(tf_tensor_list,n_samples,feed_dict=None):\n",
    "    \n",
    "    if isinstance(tf_tensor_list, list)==False:\n",
    "        print('Input not a list')\n",
    "        return None\n",
    "    \n",
    "    MLOOP = np.int(np.ceil(n_samples/FLAGS.batch_size))\n",
    "    \n",
    "    res = dict()\n",
    "\n",
    "    for key in tf_tensor_list:\n",
    "        dd = key.shape.as_list()[1:]\n",
    "        dd.insert(0,n_samples)\n",
    "        res[key] = np.zeros(dd)\n",
    "    \n",
    "    for mloop in range(MLOOP):\n",
    "        \n",
    "        st = mloop*FLAGS.batch_size\n",
    "        ed = min((mloop+1)*FLAGS.batch_size,n_samples)\n",
    "        \n",
    "        if feed_dict is not None:\n",
    "            feed_dict_i = dict()\n",
    "            for key in feed_dict.keys():\n",
    "                feed_dict_i[key] = np.random.randn(*int_shape(key))\n",
    "                feed_dict_i[key][:ed-st] = feed_dict[key][st:ed]\n",
    "            # print(feed_dict_i)\n",
    "            y = sess.run(tf_tensor_list,feed_dict=feed_dict_i)\n",
    "        else:\n",
    "            y = sess.run(tf_tensor_list)\n",
    "        \n",
    "        for i in range(len(tf_tensor_list)):\n",
    "            res[tf_tensor_list[i]][st:ed] = y[i][:ed-st]\n",
    "    \n",
    "    return res"
   ]
  },
  {
   "cell_type": "code",
   "execution_count": 9,
   "metadata": {
    "code_folding": [
     0
    ]
   },
   "outputs": [],
   "source": [
    "def eval_pehe(tau_hat,tau):\n",
    "    return np.sqrt(np.mean(np.square(tau-tau_hat)))"
   ]
  },
  {
   "cell_type": "code",
   "execution_count": 10,
   "metadata": {
    "code_folding": [
     0
    ]
   },
   "outputs": [],
   "source": [
    "def load_ihdp(trial_id=0,filepath='./data/',istrain=True):\n",
    "    \n",
    "    if istrain:\n",
    "        data_file = filepath+'ihdp_npci_1-1000.train.npz'\n",
    "    else:\n",
    "        data_file = filepath+'ihdp_npci_1-1000.test.npz'\n",
    "        \n",
    "    data = np.load(data_file)\n",
    "    \n",
    "    x = data['x'][:,:,trial_id]\n",
    "    y = data['yf'][:,trial_id]\n",
    "    t = data['t'][:,trial_id]\n",
    "    ycf = data['ycf'][:,trial_id]\n",
    "    mu0 = data['mu0'][:,trial_id]\n",
    "    mu1 = data['mu1'][:,trial_id]\n",
    "    \n",
    "    return x,y,t,ycf,mu0,mu1"
   ]
  },
  {
   "cell_type": "code",
   "execution_count": 11,
   "metadata": {},
   "outputs": [],
   "source": [
    "# Loading normalized IHDP example\n",
    "data = np.load('ihdp_example.npy',allow_pickle=True).item()\n",
    "X = data['X'] # Confounder proxiess\n",
    "Y = data['Y'] # Factual outcomes\n",
    "T = data['T'] # Treatment\n",
    "Tau = data['Tau']  # Ground truth ITE\n",
    "\n",
    "n_samples = X.shape[0]"
   ]
  },
  {
   "cell_type": "code",
   "execution_count": 12,
   "metadata": {},
   "outputs": [],
   "source": [
    "t1_ind = T[:,1]==1   # find which column has the treatment == 1\n",
    "t0_ind = T[:,0]==1 \n",
    "\n",
    "n0 = np.sum(t0_ind)\n",
    "n1 = np.sum(t1_ind)\n",
    "\n",
    "X0 = X[t0_ind]\n",
    "X1 = X[t1_ind]\n",
    "\n",
    "Y0 = Y[t0_ind]\n",
    "Y1 = Y[t1_ind]"
   ]
  },
  {
   "cell_type": "code",
   "execution_count": 13,
   "metadata": {
    "code_folding": [
     0
    ]
   },
   "outputs": [],
   "source": [
    "def get_phi_x(input_x):\n",
    "    xi = tf.random.uniform([FLAGS.batch_size,FLAGS.xi_dim], minval=-1,maxval=1)\n",
    "    x_xi = tf.concat([input_x,eta*xi],axis=-1)\n",
    "    phi_x = simple_mlp(x_xi,FLAGS.hidden_size,name='encoder')\n",
    "    return phi_x"
   ]
  },
  {
   "cell_type": "code",
   "execution_count": null,
   "metadata": {},
   "outputs": [],
   "source": [
    "# Model specification\n",
    "\n",
    "input_x = tf.placeholder(tf.float32, shape=[FLAGS.batch_size, FLAGS.x_dim])\n",
    "input_t = tf.placeholder(tf.int32, shape=[FLAGS.batch_size, FLAGS.t_dim])\n",
    "input_y = tf.placeholder(tf.float32, shape=[FLAGS.batch_size, FLAGS.y_dim])\n",
    "\n",
    "phi_x = get_phi_x(input_x)"
   ]
  },
  {
   "cell_type": "code",
   "execution_count": null,
   "metadata": {},
   "outputs": [],
   "source": [
    "# Propensity score\n",
    "\n",
    "logit_t_x = simple_mlp(phi_x, 2, 'predictor_ps') # propensity score\n",
    "e_x = tf.reshape(tf.nn.softmax(logit_t_x)[:,1],[-1,1])\n",
    "\n",
    "loss_e_x_vec = tf.nn.softmax_cross_entropy_with_logits(labels=input_t, logits=logit_t_x)\n",
    "loss_e_x = tf.reduce_mean(loss_e_x_vec)\n",
    "\n",
    "\n",
    "if RDECOMP:\n",
    "    # Robinson decomposition\n",
    "    \n",
    "    print('Use Robinson decomposition')\n",
    "    \n",
    "    m_x = simple_mlp(phi_x, 1, 'predictor_m') # expected outcome \n",
    "    tau_x = simple_mlp(phi_x, 1, 'predictor_tau') # causal effect\n",
    "    \n",
    "    # Continuous outcome\n",
    "    input_t_bin = tf.reshape(tf.cast(input_t[:,1],dtype=tf.float32),[-1,1])\n",
    "    y_hat = m_x + (tf.cast(input_t_bin, dtype=tf.float32) - e_x) * tau_x\n",
    "    \n",
    "else:\n",
    "    \n",
    "    print('Use regular predictor')\n",
    "    \n",
    "    phi_xt = tf.concat([phi_x,tf.cast(input_t,tf.float32)],axis=1)\n",
    "    y_hat = simple_mlp(phi_xt,FLAGS.y_dim,name='predictor_y')\n",
    "\n",
    "loss_y = tf.reduce_mean(tf.square(input_y-y_hat))\n",
    "\n",
    "if alph>0:\n",
    "    loss_phi = tf.reduce_sum(tf.square(phi_x))\n",
    "    loss_y += loss_phi\n",
    "\n",
    "if zeta>0:\n",
    "    \n",
    "    nu_q_vec = critic(phi_x, None, 'ELBO')\n",
    "    nu_p_vec = critic(tf.random.normal([FLAGS.batch_size, FLAGS.hidden_size]), None, 'ELBO')\n",
    "\n",
    "    loss_kl = tf.reduce_mean(nu_q_vec) - tf.reduce_mean(tf.exp(nu_p_vec))"
   ]
  },
  {
   "cell_type": "code",
   "execution_count": 16,
   "metadata": {
    "scrolled": false
   },
   "outputs": [],
   "source": [
    "input_x_t0 = tf.placeholder(tf.float32, shape=[FLAGS.batch_size, FLAGS.x_dim])\n",
    "input_x_t1 = tf.placeholder(tf.float32, shape=[FLAGS.batch_size, FLAGS.x_dim])\n",
    "\n",
    "\n",
    "phi_x_t0 = get_phi_x(input_x_t0)\n",
    "phi_x_t1 = get_phi_x(input_x_t1)\n",
    "\n",
    "nu0_vec = critic(phi_x_t0, None, 'KL')\n",
    "nu1_vec = critic(phi_x_t1, None, 'KL')\n",
    "\n",
    "loss_fkl = tf.reduce_mean(nu0_vec) - tf.reduce_mean(tf.exp(nu1_vec))\n"
   ]
  },
  {
   "cell_type": "code",
   "execution_count": 17,
   "metadata": {},
   "outputs": [],
   "source": [
    "LAM = tf.placeholder(tf.float32)\n",
    "\n",
    "loss_cfr_kl = loss_y + LAM*loss_fkl\n",
    "if zeta>0: loss_cfr_kl += zeta*loss_kl\n",
    "if kappa>0: loss_cfr_kl += loss_e_x"
   ]
  },
  {
   "cell_type": "code",
   "execution_count": 18,
   "metadata": {},
   "outputs": [],
   "source": [
    "enc_vars = [v for v in tf.get_collection(\n",
    "    tf.GraphKeys.TRAINABLE_VARIABLES) if v.name.startswith('encoder')]\n",
    "dec_vars = [v for v in tf.get_collection(\n",
    "    tf.GraphKeys.TRAINABLE_VARIABLES) if v.name.startswith('predictor')]\n",
    "critic_vars = [v for v in tf.get_collection(\n",
    "    tf.GraphKeys.TRAINABLE_VARIABLES) if v.name.startswith('critic')]"
   ]
  },
  {
   "cell_type": "code",
   "execution_count": 19,
   "metadata": {},
   "outputs": [],
   "source": [
    "learning_rate = tf.placeholder(tf.float32)\n",
    "\n",
    "Optimizer = tf.train.AdamOptimizer\n",
    "\n",
    "train_cfr_kl = Optimizer(learning_rate).minimize(loss_cfr_kl,var_list=enc_vars+dec_vars)   # for encoder/decoder\n",
    "\n",
    "kl_list = -loss_fkl\n",
    "if zeta>0:\n",
    "    kl_list += -loss_kl\n",
    "train_critic = Optimizer(learning_rate).minimize(kl_list, var_list=critic_vars)\n"
   ]
  },
  {
   "cell_type": "code",
   "execution_count": 20,
   "metadata": {
    "code_folding": []
   },
   "outputs": [],
   "source": [
    "def check_results():\n",
    "    \n",
    "    tau_hat = estimate_causal_effect(X).reshape([-1,])\n",
    "    pehe_mkl = eval_pehe(tau_hat, Tau)\n",
    "    print('PEHE = %.2f' % pehe_mkl)\n",
    "    \n",
    "    return;"
   ]
  },
  {
   "cell_type": "code",
   "execution_count": 21,
   "metadata": {},
   "outputs": [],
   "source": [
    "# Initialization\n",
    "\n",
    "initializer = tf.global_variables_initializer()\n",
    "sess.run(initializer)"
   ]
  },
  {
   "cell_type": "code",
   "execution_count": 22,
   "metadata": {},
   "outputs": [
    {
     "name": "stdout",
     "output_type": "stream",
     "text": [
      "PEHE = 1.92\n",
      "[1, 0.571056487262249, 0.022082417607307447, 0.48482632637023926]\n",
      "PEHE = 0.59\n",
      "[2, 0.3861630339920521, -0.013559387326240513, 0.27901577949523926]\n",
      "PEHE = 0.40\n",
      "[3, 0.25521801710128783, -0.005520985126495459, 0.2838401794433594]\n",
      "PEHE = 0.26\n",
      "[4, 0.20370182365179063, -0.0011141002178192139, 0.2796914577484131]\n",
      "PEHE = 0.21\n",
      "[5, 0.18301817700266837, 0.005158441066741903, 0.28604602813720703]\n",
      "PEHE = 0.23\n",
      "[6, 0.17798278786242008, 0.0067710512876510975, 0.2768852710723877]\n",
      "PEHE = 0.25\n",
      "[7, 0.1478867393732071, -0.005697999596595782, 0.29219913482666016]\n",
      "PEHE = 0.24\n",
      "[8, 0.15039708197116852, -0.011039963960647547, 0.2689549922943115]\n",
      "PEHE = 0.31\n",
      "[9, 0.15130620539188386, -0.000378354191780117, 0.23980998992919922]\n",
      "PEHE = 0.30\n",
      "[10, 0.135986000970006, -0.002048636674881088, 0.23761510848999023]\n",
      "PEHE = 0.23\n"
     ]
    },
    {
     "data": {
      "image/png": "[encoded data removed]",
      "text/plain": [
       "<Figure size 432x288 with 1 Axes>"
      ]
     },
     "metadata": {
      "needs_background": "light"
     },
     "output_type": "display_data"
    }
   ],
   "source": [
    "lr = 1e-3\n",
    "max_epoch = 10\n",
    "updates_per_epoch = 100\n",
    "\n",
    "epoch_record = np.zeros([max_epoch,])\n",
    "\n",
    "check_results()\n",
    "\n",
    "for epoch_id in range(max_epoch):\n",
    "    \n",
    "    loss_record = np.zeros([updates_per_epoch,])\n",
    "    loss_fkl_record = np.zeros([updates_per_epoch,])\n",
    "    \n",
    "    t0 = time()\n",
    "    \n",
    "    for step in range(updates_per_epoch):\n",
    "        \n",
    "        ind = np.random.choice(n_samples,FLAGS.batch_size)\n",
    "        \n",
    "        feed_dict = {learning_rate:lr, LAM:lam}\n",
    "        feed_dict[input_x] = X[ind]\n",
    "        feed_dict[input_y] = Y[ind]\n",
    "        feed_dict[input_t] = T[ind]\n",
    "        \n",
    "        ind = np.random.choice(n0,FLAGS.batch_size)\n",
    "        feed_dict[input_x_t0] = X0[ind]\n",
    "        ind = np.random.choice(n1,FLAGS.batch_size)\n",
    "        feed_dict[input_x_t1] = X1[ind]\n",
    "        \n",
    "        _,_,loss_fkl_val,loss_y_val = sess.run([train_critic, train_cfr_kl, \n",
    "                                        loss_fkl, loss_y], feed_dict)\n",
    "\n",
    "\n",
    "        for i in range(0):\n",
    "            \n",
    "            ind = np.random.choice(n0,FLAGS.batch_size)\n",
    "            feed_dict[input_x_t0] = X0[ind]\n",
    "            ind = np.random.choice(n1,FLAGS.batch_size)\n",
    "            feed_dict[input_x_t1] = X1[ind]\n",
    "            \n",
    "            _ = sess.run(train_critic,feed_dict)\n",
    "\n",
    "        loss_record[step] = loss_y_val + lam*(loss_fkl_val+1.)\n",
    "        loss_fkl_record[step] = loss_fkl_val\n",
    "    \n",
    "    t1 = time()\n",
    "    \n",
    "    klm = np.mean(loss_fkl_record)+1\n",
    "    print([epoch_id+1,np.mean(loss_record),klm,t1-t0])\n",
    "    epoch_record[epoch_id] = np.mean(loss_record)\n",
    "    \n",
    "    check_results()\n",
    "    \n",
    "_ = plt.plot(epoch_record)"
   ]
  },
  {
   "cell_type": "code",
   "execution_count": 23,
   "metadata": {},
   "outputs": [
    {
     "data": {
      "image/png": "[encoded data removed]",
      "text/plain": [
       "<Figure size 432x288 with 1 Axes>"
      ]
     },
     "metadata": {
      "needs_background": "light"
     },
     "output_type": "display_data"
    }
   ],
   "source": [
    "tau_hat = estimate_causal_effect(X).reshape([-1,])\n",
    "_ = plt.plot(Tau,tau_hat,'s')\n",
    "_ = plt.xlabel('Ground Truth ITE',fontsize=18)\n",
    "_ = plt.ylabel('Estimated ITE',fontsize=18)"
   ]
  },
  {
   "cell_type": "code",
   "execution_count": 24,
   "metadata": {},
   "outputs": [
    {
     "data": {
      "image/png": "[encoded data removed]",
      "text/plain": [
       "<Figure size 288x288 with 1 Axes>"
      ]
     },
     "metadata": {
      "needs_background": "light"
     },
     "output_type": "display_data"
    }
   ],
   "source": [
    "indz = 0\n",
    "\n",
    "z0_val = tf_eval(phi_x, n0, {input_x: X0})\n",
    "z1_val = tf_eval(phi_x, n1, {input_x: X1})\n",
    "\n",
    "_ = _ = plt.figure(figsize=(4,4))\n",
    "\n",
    "_ = plt.scatter(z0_val[:,0],z0_val[:,1])\n",
    "_ = plt.scatter(z1_val[:,0],z1_val[:,1])\n",
    "\n",
    "_ = plt.legend(['T=0','T=1'],fontsize=18)\n",
    "_ = plt.xlim([-3,3])\n",
    "_ = plt.ylim([-3,3])\n",
    "_ = plt.title('Confounder Distribution',fontsize=20)"
   ]
  }
 ],
 "metadata": {
  "kernelspec": {
   "display_name": "Python 3",
   "language": "python",
   "name": "python3"
  },
  "language_info": {
   "codemirror_mode": {
    "name": "ipython",
    "version": 3
   },
   "file_extension": ".py",
   "mimetype": "text/x-python",
   "name": "python",
   "nbconvert_exporter": "python",
   "pygments_lexer": "ipython3",
   "version": "3.6.9"
  }
 },
 "nbformat": 4,
 "nbformat_minor": 2
}
