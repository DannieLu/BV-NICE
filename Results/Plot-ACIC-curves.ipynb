{
 "cells": [
  {
   "cell_type": "markdown",
   "metadata": {},
   "source": [
    "## ACIC Results Visualization\n",
    "\n",
    "* This file is to visualize ACIC results and compare BV-NICE with benchmark models.\n",
    "* Due to limited space, we will only publish part of the results in folder \"sample results\" to show the result format.\n"
   ]
  },
  {
   "cell_type": "code",
   "execution_count": 5,
   "metadata": {},
   "outputs": [],
   "source": [
    "import os\n",
    "import sys\n",
    "import time\n",
    "\n",
    "import numpy as np\n",
    "import seaborn as sns; \n",
    "sns.set(color_codes=True)\n",
    "\n",
    "import matplotlib.pyplot as plt\n",
    "%matplotlib inline\n",
    "\n",
    "import pandas as pd\n",
    "\n",
    "import matplotlib\n",
    "matplotlib.rcParams['pdf.fonttype'] = 42\n",
    "matplotlib.rcParams['ps.fonttype'] = 42"
   ]
  },
  {
   "cell_type": "code",
   "execution_count": 10,
   "metadata": {},
   "outputs": [],
   "source": [
    "n_exp = 3\n",
    "n_rep = 10\n",
    "\n",
    "file_path = 'sample_results/CFR/'\n",
    "\n",
    "# exp_mean\n",
    "exp_results_ = np.zeros([n_exp,n_rep])\n",
    "exp_results_val = np.zeros([n_exp,n_rep])\n",
    "exp_results_test = np.zeros([n_exp,n_rep])\n",
    "\n",
    "for i in range(n_exp):\n",
    "    if np.mod(i+1,5)==0:\n",
    "        print('%d / %d' % (i+1, n_exp))\n",
    "    for j in range(n_rep):\n",
    "        data_file = file_path + str(i+1) + '_' + str(j) + '_results.npy'\n",
    "        data = np.load(data_file)\n",
    "        \n",
    "        rmse_min_ind = np.argmin(data[:,1,3] )  # find the run where rmse is minimum\n",
    "        exp_results_[i,j] = data[rmse_min_ind,0,0]\n",
    "        exp_results_val[i,j] = data[rmse_min_ind,1,0]\n",
    "        exp_results_test[i,j] = data[rmse_min_ind,2,0]\n",
    "        \n",
    "mean_cfr_pehe_test = np.mean(exp_results_test,axis=1)"
   ]
  },
  {
   "cell_type": "code",
   "execution_count": 11,
   "metadata": {},
   "outputs": [],
   "source": [
    "\n",
    "n_exp = 3\n",
    "n_rep = 10\n",
    "\n",
    "file_path = 'sample_results/BVNICE/'\n",
    "\n",
    "# exp_mean\n",
    "\n",
    "exp_results_ = np.zeros([n_exp,n_rep])\n",
    "exp_results_val = np.zeros([n_exp,n_rep])\n",
    "exp_results_test = np.zeros([n_exp,n_rep])\n",
    "\n",
    "for i in range(n_exp):\n",
    "    for j in range(n_rep):\n",
    "        data_file = file_path + str(i+1) + '_' + str(j) + '_results.npy'\n",
    "        data = np.load(data_file)\n",
    "        \n",
    "        rmse_min_ind = np.argmin(data[:,1,3] )  # find the run where rmse is minimum\n",
    "        exp_results_[i,j] = data[rmse_min_ind,0,0]\n",
    "        exp_results_val[i,j] = data[rmse_min_ind,1,0]\n",
    "        exp_results_test[i,j] = data[rmse_min_ind,2,0]\n",
    "        \n",
    "mean_bnice_pehe_test = np.mean(exp_results_test,axis=1)"
   ]
  },
  {
   "cell_type": "code",
   "execution_count": 12,
   "metadata": {},
   "outputs": [],
   "source": [
    "\n",
    "n_exp = 3\n",
    "n_rep = 10\n",
    "\n",
    "file_path = 'sample_results/BART/'\n",
    "\n",
    "# exp_mean\n",
    "\n",
    "exp_results_ = np.zeros([n_exp,n_rep])\n",
    "exp_results_val = np.zeros([n_exp,n_rep])\n",
    "exp_results_test = np.zeros([n_exp,n_rep])\n",
    "\n",
    "for i in range(n_exp):\n",
    "    if np.mod(i+1,5)==0:\n",
    "        print('%d / %d' % (i, n_exp))\n",
    "    for j in range(n_rep):\n",
    "        data_file = file_path + str(i+1) + '_' + str(j) + '_results.npy'\n",
    "        data = np.load(data_file)\n",
    "        exp_results_[i,j] = data[1]\n",
    "        exp_results_val[i,j] = data[2]\n",
    "        exp_results_test[i,j] = data[3]\n",
    "        \n",
    "mean_bart_pehe_test = np.mean(exp_results_test,axis=1)"
   ]
  },
  {
   "cell_type": "code",
   "execution_count": 20,
   "metadata": {},
   "outputs": [
    {
     "data": {
      "image/png": "[encoded data removed]",
      "text/plain": [
       "<Figure size 576x432 with 1 Axes>"
      ]
     },
     "metadata": {
      "needs_background": "light"
     },
     "output_type": "display_data"
    }
   ],
   "source": [
    "# mean_pehe_ = np.mean(exp_results_,axis=1)\n",
    "\n",
    "s_ind = np.argsort(mean_bnice_pehe_test)\n",
    "\n",
    "fs = 26\n",
    "\n",
    "lw = 5\n",
    "ms = 10\n",
    "\n",
    "fig_handle = plt.figure(figsize=(8,6))\n",
    "\n",
    "_ = plt.plot(mean_bnice_pehe_test[s_ind],'s-',ms=ms,color='C2',label='BV-NICE')\n",
    "_ = plt.plot(mean_bart_pehe_test[s_ind],'s-',ms=ms,color='C1',label='BART')\n",
    "_ = plt.plot(mean_cfr_pehe_test[s_ind],'s-',ms=ms,color='C4',label='CFR')\n",
    "_ = plt.legend()\n",
    "\n",
    "\n",
    "ax = plt.gca()\n",
    "\n",
    "_ = plt.xlabel('Ordered Dataset',fontsize=fs)\n",
    "_ = plt.ylabel('PEHE',fontsize=fs)\n",
    "_ = plt.title('ACIC',fontsize = fs)\n",
    "_ = plt.ylim([-1,8.5])\n",
    "\n",
    "\n",
    "plt.tight_layout()\n",
    "\n"
   ]
  },
  {
   "cell_type": "code",
   "execution_count": null,
   "metadata": {},
   "outputs": [],
   "source": []
  },
  {
   "cell_type": "code",
   "execution_count": null,
   "metadata": {},
   "outputs": [],
   "source": []
  }
 ],
 "metadata": {
  "kernelspec": {
   "display_name": "Python 3",
   "language": "python",
   "name": "python3"
  },
  "language_info": {
   "codemirror_mode": {
    "name": "ipython",
    "version": 3
   },
   "file_extension": ".py",
   "mimetype": "text/x-python",
   "name": "python",
   "nbconvert_exporter": "python",
   "pygments_lexer": "ipython3",
   "version": "3.7.6"
  }
 },
 "nbformat": 4,
 "nbformat_minor": 2
}
